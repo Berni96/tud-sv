{
 "cells": [
  {
   "cell_type": "markdown",
   "metadata": {},
   "source": [
    "# Einführung"
   ]
  },
  {
   "cell_type": "markdown",
   "metadata": {},
   "source": [
    "<img style=\"float: right; margin:5px 0px 0px 10px\" src=\"img/Titel.png\" width=\"400\">\n",
    "Begleitend zur Übung des Fachs Signalverarbeitung wird Ihnen eine Reihe an Jupyter-Notebooks zur Verfügung gestellt. Diese soll Ihnen sowohl zum besseren Verständnis der in der Vorlesung und Übung behandelten Themen helfen, als auch die Fähigkeit zur selbstständigen Lösung eigener Problemstellungen geben.\n",
    "\n",
    "Die Bearbeitung der Notebooks ist dabei komplett freiwillig. Falls Sie aber Probleme und Fragen haben, posten Sie Ihre Fragen gerne ins Opal-Forum. \n",
    "\n",
    "\n",
    "Dieses Notebook soll Ihnen beim Einstieg in die Programmiersprache Python und der Jupyter-Notebooks helfen. Weitere Notebooks werden zeitnah zur jeweiligen Übung online gestellt.\n",
    "\n",
    "\n",
    "## Inhalt  \n",
    "<table style=\"width:256px; border: 1px solid black; display: inline-block\">\n",
    "    <tr>\n",
    "    <td  style=\"text-align:right\" width=64px><img src=\"img/IMG-binder.svg\" style=\"float:left\"></td>\n",
    "      <td style=\"text-align:left\" width=256px>\n",
    "          <a style=\"color:black; font-size:14px; font-weight:bold; text-decoration:none\" href='#binder'>1. Binder</a>\n",
    "      </td>\n",
    "  </tr>  \n",
    "    <tr>\n",
    "    <td  style=\"text-align:right\" width=64px><img src=\"img/IMG-Python.png\" style=\"float:left\"></td>\n",
    "      <td style=\"text-align:left\" width=256px>\n",
    "          <a style=\"color:black; font-size:14px; font-weight:bold; text-decoration:none\" href='#python'>2. Python</a>\n",
    "      </td>\n",
    "  </tr>  \n",
    "  <tr>\n",
    "    <td style=\"text-align:right\"><img src=\"img/IMG-jupyter.png\" style=\"float:left\"></td>\n",
    "    <td style=\"text-align:left\" width=128px><a style=\"color:black; font-size:14px; font-weight:bold; text-decoration:none\" href='#jupyter'>3. Jupyter Notebooks</a>\n",
    "      </td>\n",
    "  </tr>\n",
    "    <tr>\n",
    "    <td style=\"text-align:right\"><img src=\"img/IMG-graph.png\" style=\"float:left\"></td>\n",
    "    <td style=\"text-align:left\" width=128px><a style=\"color:black; font-size:14px; font-weight:bold; text-decoration:none\" href='#signalrep'>3. Signalrepräsentation</a>\n",
    "        </td>\n",
    "    </tr>\n",
    "    <tr>\n",
    "    <td style=\"text-align:right\"><img src=\"img/IMG-signal.png\" style=\"float:left\"></td>\n",
    "    <td style=\"text-align:left\" width=128px><a style=\"color:black; font-size:14px; font-weight:bold; text-decoration:none\" href='#signalop'>4. Signaloperation</a>\n",
    "        </td>\n",
    "  </tr>\n",
    "    <tr>\n",
    "    <td style=\"text-align:right\"><img src=\"img/IMG-Fourier.png\" style=\"float:left\"></td>\n",
    "    <td style=\"text-align:left\" width=128px><a style=\"color:black; font-size:14px; font-weight:bold; text-decoration:none\" href='#fourier'>5. Fourier-Transformation</a>\n",
    "        </td>\n",
    "  </tr>\n",
    "</table>"
   ]
  },
  {
   "cell_type": "markdown",
   "metadata": {},
   "source": [
    "----"
   ]
  },
  {
   "cell_type": "markdown",
   "metadata": {},
   "source": [
    "<a id='binder'></a><div><img src=\"img/IMG-binder.svg\" width=24px style=\"float:left\"><h2 style=\"position: relative; top: 6px; left: 6px\">  1. Binder </h2></div>\n",
    "\n",
    "Sie schauen sich dieses Notebook sicherlich zuerst über den Service [```Binder```](https://mybinder.org/) an. Dieses Tool erlaubt es, auf Github hochgestellte Jupyter-Notebooks, wie dieses eins ist, über einen externen Server auszuführen. Das gibt einem die Möglichkeit, sich Projekte ohne Download der Daten und ohne lokal installiertes Python anzuschauen. Gestartete Sessions werden aber ungefähr nach 10 Minuten Inaktivität vom Server geschlossen und alle Änderungen gehen damit verloren. [Hier gibt es weitere Informationen dazu.](https://mybinder.readthedocs.io/en/latest/about/about.html)\n",
    "\n",
    "Falls Sie also die von Ihnen bearbeiteten Notebooks gerne wiederverwenden möchten, ist eine Installation von Python notwendig. Eine Anleitung zur Installation gibt es im folgenden Kapitel. Diese ist aber vor allem für das Betriebssystem Windows ausgelegt."
   ]
  },
  {
   "cell_type": "markdown",
   "metadata": {},
   "source": [
    "<a id='python'></a><div><img src=\"img/IMG-Python.png\" style=\"float:left\"><h2 style=\"position: relative; top: 6px; left: 6px\">  2. Python </h2></div>\n",
    "\n",
    "<h4> Allgemeines</h4>\n",
    "\n",
    "\n",
    "Python ist eine Skriptsprache auf hoher Ebene, die Interpretation, Kompilierung, Interaktivität und Objektorientiertheit kombiniert. Python ist leicht zu erlernen, einfach zu lesen, und hat eine breite Palette von Standardbibliotheken. Einer der größten Vorteile von Python ist seine umfangreiche Bibliothek, die plattformübergreifend und mit UNIX, Windows und Macintosh kompatibel ist. Es gibt viele Tutorials über Python wie zum Beispiel auf [w3schools](https://www.w3schools.com/python/).   \n",
    "\n",
    "Falls Sie Python auf Ihren Rechner installieren wollen, gibt es im Folgenden eine Anleitung für Windows-Nutzer*innen, da die ersten Schritte mit Python sehr Kommandozeilen-lastig sind.\n",
    "\n",
    "Hinweis: Es gibt zudem auch die Software `Anaconda`, die die Nutzung von Python und Jupyter-Notebooks vereinfacht. Bei Anaconda sind viele weitere externe Module schon vorinstalliert. Wir wollen Ihnen aber im Folgenden eine Anleitung geben, wie sie mit dem normalen Python umgehen. Falls Sie also Probleme bei der Installation des reinen Pythons haben, können Sie als Option auf die [Anaconda-Software zurückgreifen.](https://www.anaconda.com/products/individual) Sie können sich aber zuerst auch gerne an uns wenden. \n",
    "\n",
    "<h4>Installations- und Nutzungsanleitung von Python</h4>\n",
    "\n",
    "Hier wird Ihnen Schritt für Schritt erklärt, wie Sie die einzelnen Programme installieren können.\n",
    "\n",
    "1. **Installation von Python:** <br>\n",
    "Die neueste Version von Python finden Sie [hier](https://www.python.org/downloads/). Wählen Sie bei der Installation auch die Option \"Add Python 3.X to PATH\" aus! Merken Sie sich, in welchen Ordner Sie Python installiert haben.\n",
    "\n",
    "\n",
    "2. **Starten von Python:**<br>\n",
    "Python können Sie über die Eingabeaufforderung von Windows starten. Drücken Sie dafür `Windows-Taste` + `R`, geben Sie \"*cmd*\" ein und drücken `Enter`. In der sich nun geöffneten Kommando-Shell geben Sie \"*python*\" ein und drücken `Enter`. Ein Python-Kernel startet und Ihnen sollte die Versionsnummer von dem von Ihnen installierten Python angezeigt werden. Falls dies nicht der Fall ist, müssen Sie gegebenenfalls die Umgebungsvariablen editieren. Eine Anleitung dazu [finden Sie hier.](https://datatofish.com/add-python-to-windows-path/)\n",
    "\n",
    "Sie können jetzt Python verwenden, indem Sie Zeilenweise Ihren Code eingeben. Probieren Sie zum Beispiel folgenden Code aus:\n",
    "\n",
    "<div style=\"background-color:rgba(0, 0, 0, 0.0470588); padding:10px 10px;font-family:monospace;\">\n",
    "\n",
    "2 + 3 *[Enter]*\n",
    "\n",
    "a = 6 *[Enter]*\n",
    "\n",
    "b = 12 *[Enter]*\n",
    "\n",
    "c = a + b *[Enter]*\n",
    "    \n",
    "c *[Enter]*                              #Kommentar: Ausgabe von c \n",
    "    \n",
    "A = [[1,2,3], [4,5,6]] *[Enter]*         #Kommentar: Erstellen einer 2x3-Matrix \n",
    "    \n",
    "A *[Enter]*                              #Kommentar: Ausgabe von A\n",
    "</div>\n",
    "\n",
    "Zum Schließen des Kernels können Sie entweder \"*exit()*\" oder  `Strg` + `Z` eingeben und mit `Enter` bestätigen.\n",
    "\n",
    "\n",
    "\n",
    "<h4> Nutzung von Modulen </h4>\n",
    "\n",
    "\n",
    "Es gibt built-in und externe Module (auch Packages genannt).\n",
    "\n",
    "Built-in Module können direkt verwendet werden und stellen die Basis zur Programmierung in Python dar. Zum Beispiel gibt es das Modul ```cmath``` für [komplexe Zahlen](https://docs.python.org/3/library/cmath.html#module-cmath). Daraus kann man das Objekt ```complex()``` direkt nutzen, um eine komplexe Zahl zu erzeugen:"
   ]
  },
  {
   "cell_type": "code",
   "execution_count": null,
   "metadata": {},
   "outputs": [],
   "source": [
    "# Starten Sie den Code, indem sie die Zelle auswählen und den Run-Button drücken oder mit Shift + Enter\n",
    "\n",
    "c = complex(1.4, -3)  # Caste die Variable c als komplexe Zahl mit dem Wert 1.4 -3j\n",
    "print(c)              # Ausgabe des Inhalts von c"
   ]
  },
  {
   "cell_type": "markdown",
   "metadata": {},
   "source": [
    "Die Darstellung des Werts in einem Plot ist mit den internen Modulen aber zum Beispiel nicht mehr möglich. Dafür muss man sich mit einem externen Modul behelfen, zum Beispiel ```matplotlib```. Diese externen Module müssen für jedes Projekt importiert werden. Falls dieses Modul nicht installiert ist, kann die folgende Code-Zelle nicht ausgeführt werden. Im Binder-Projekt ist das Modul aber integriert und damit der Code ausführbar."
   ]
  },
  {
   "cell_type": "code",
   "execution_count": null,
   "metadata": {
    "scrolled": true
   },
   "outputs": [],
   "source": [
    "# Starten Sie den Code, indem sie die Zelle auswählen und den Run-Button drücken oder mit Shift + Enter\n",
    "import matplotlib.pyplot as plt\n",
    "\n",
    "plt.scatter(c.real,c.imag, s=100)   # Ausgabe eines Punkts\n",
    "plt.show()                          # Plot zeigen"
   ]
  },
  {
   "cell_type": "markdown",
   "metadata": {},
   "source": [
    "Als Beispiel für einen nicht ausführbaren Code in der `binder`-Umgebung ist die folgende Zelle mit dem Modul `pandas`, das nicht mit installiert wurde (und im Weiteren auch nicht benötigt wird). "
   ]
  },
  {
   "cell_type": "code",
   "execution_count": null,
   "metadata": {},
   "outputs": [],
   "source": [
    "# Starten Sie den Code, indem sie die Zelle auswählen und den Run-Button drücken oder mit Shift + Enter\n",
    "import pandas as pd\n",
    "\n",
    "s = pd.Series([1, 3, 5, np.nan, 6, 8])\n",
    "# Es sollte ein ModuleNotFoundError entstehen."
   ]
  },
  {
   "cell_type": "markdown",
   "metadata": {},
   "source": [
    "***\n",
    "Für das Einbinden von externen Modulen gibt es folgende Kommandos:\n",
    "\n",
    "*A) Import der kompletten Bibliothek*\n",
    "\n",
    "```python\n",
    "import numpy\n",
    "\n",
    "```\n",
    "    \n",
    "Der Befehl importiert die gesamte Bibliothek des Moduls mit dem eigenem Namensraum `numpy`. Das Modul numpy besitzt zum Beispiel die Objekte `cos()`, `sin()` oder `pi`. Durch den obigen Import lassen sich die Objekte aufrufen, indem man zuerst das Modul nennt: `numpy.cos()`, `numpy.sin()` oder `numpy.pi`.\n",
    "\n",
    "<br>\n",
    "\n",
    "*B) Import der kompletten Bibliothek mit alias*\n",
    "\n",
    "```python\n",
    "import numpy as np\n",
    "\n",
    "```\n",
    "\n",
    "Wie bei A) importiert der Befehl die gesamte Bibliothek des Moduls nur heißt der Namensraum nun `np`. Die Objekte `cos()`, `sin()` oder `pi` lassen sich nun folgendermaßen verwenden: `np.cos()`, `np.sin()` oder `np.pi`.\n",
    "\n",
    "<br>\n",
    "\n",
    "*C) Import einzelner Module aus der Bibliothek*\n",
    "\n",
    "```python\n",
    "from numpy import cos, sin, pi\n",
    "\n",
    "```\n",
    "\n",
    "Mit diesem Befehl werden die einzelnen Objekte `cos()`, `sin()` und `pi` in den globalen Namensraum importiert. Diese können nun direkt aufgerufen werden, also mittels: `cos()`, `sin()` oder `pi`. Diese Art des Imports ist nicht empfehlenswert, da es dabei zu Kollision von gleichnamigen Modulen kommen kann.\n",
    "\n",
    "<br>\n",
    "\n",
    "*D) Import aller Module aus der Bibliothek*\n",
    "\n",
    "```python\n",
    "from numpy import *\n",
    "\n",
    "```\n",
    "\n",
    "Der Befehl bindet alle Objekte und Module von `numpy` direkt in den globalen Namensraum ein. Nun können alle Module direkt aufgerufen werden, also auch: `cos()`, `sin()` oder `pi`. Wie bei C) ist dieser Import nicht empfehlenswert und sollte nicht gemieden werden.\n",
    "\n",
    "<br>\n",
    "\n",
    "*E) Import einzelner Module aus der Bibliothek mit Alias*\n",
    "\n",
    "```python\n",
    "import matplotlib.pyplot as plt\n",
    "\n",
    "```\n",
    "\n",
    "Bei dieser Art des Imports wird nur jeweils das aufgerufene Modul der Bibliothek mit dem vorgegebenen Alias eingebunden. \n",
    "\n",
    "***\n",
    "\n",
    "Die in diesem Notebook verwendeten Module und deren Funktionen sind:\n",
    "- [```numpy```](https://numpy.org): für [Arrays und Matrizen](https://www.python-kurs.eu/numpy.php),\n",
    "- [```matplotlib```](https://matplotlib.org/contents.html): zur Erstellung von mathematischen Darstellungen,\n",
    "- [```scipy```](https://docs.scipy.org/doc/scipy/reference/): zur Nutzung wissenschaftlicher Funktionen, hier FFT.\n",
    "  \n",
    "\n",
    "Durch das Importieren von externen Modulen kann man also die Funktionalität von Python erweitern. Jedes externe Modul sollte aber nur dann in das Projekt eingebunden werden, wenn dieses auch wirklich verwendet wird. Externe Module können dabei auch in anderen Programmiersprachen geschrieben sein. `numpy` zum Beispiel ist vorwiegend in *C* geschrieben.\n",
    "\n",
    "***\n",
    "\n",
    "<h5>Installation von externen Modulen</h5>\n",
    "\n",
    "Für die Installation von externen Modulen steht das Paketverwaltungsprogramm [`pip`](https://pip.pypa.io/en/stable/) zur Verfügung. Es lädt die Module aus dem [*Python Package Index (PyPI)*](https://pypi.org/) herunter, indem die wichtigsten Projekte gelistet sind, und installiert diese. Das Paketverwaltungsprogramm nutzt man direkt über die Eingabeaufforderung von Windows. Dabei ist zu beachten, dass Python nicht in der Eingabeaufforderung gestartet ist. Pythonkernel können in anderen Eingabeaufforderungen aber weiterlaufen.\n",
    "\n",
    "Mit `python -m pip -V` können Sie sich den Speicherort der pip-Version ausgeben lassen. Kontrollieren Sie, dass der richtige Pfad angezeigt wird, indem Sie die Python-Version installiert haben. Falls dies nicht der Fall ist, müssen Sie die Umgebungsvariablen editieren (siehe dafür vorheriges Unterkapitel: Installation von Python).\n",
    "\n",
    "Über den Befehl `python -m pip list` oder in einem Pythonkernel über `help(\"modules\")` kann man sich eine Liste der installierten Module ausgeben lassen.\n",
    "\n",
    "Bevor Sie Module installieren, sollte pip geupdated werden. Dies kann mit folgendem Link getan werden. <br>\n",
    "<div style=\"background-color:rgba(0, 0, 0, 0.0470588); padding:10px 10px;font-family:monospace;\">\n",
    "python -m pip install --upgrade pip\n",
    "</div>\n",
    "<br>\n",
    "\n",
    "\n",
    "1. **Installation von Numpy:** <br>\n",
    "Da [`numpy`](https://numpy.org/doc/stable/user/whatisnumpy.html) primär in *C* geschrieben ist, werden Libraries und Interpreter auf dem PC benötigt, um numpy zu installieren. Probieren Sie aber zuerst, die Installation mit folgendem Code zu starten.\n",
    "<br>\n",
    "Öffnen Sie eine eine Eingabeaufforderung und geben Sie folgenden Code ein und drücken `Enter`:<br>\n",
    "<div style=\"background-color:rgba(0, 0, 0, 0.0470588); padding:10px 10px;font-family:monospace;\">\n",
    "python -m pip install numpy\n",
    "</div>\n",
    "\n",
    "   Falls dies einen Error erzeugt, können Sie mit [C++-Buildtools](https://visualstudio.microsoft.com/de/visual-cpp-build-tools/) die notwendigen Programme installieren. Wählen Sie nach Starten des Installationsassistenten im Installationsmenü *C++-Buildtools* aus. Hinweis: entfernen Sie keine Häkchen bei den vorausgewählten optionalen Modulen.<br>\n",
    "Danach geben Sie nochmal den obigen Code ein, um die Installation nochmal zu starten. \n",
    "\n",
    "\n",
    "2.  **Installation von matplotlib:** <br>\n",
    "[`matplotlib`](https://matplotlib.org/users/installing.html) benötigt das Package [`wheel`](https://pypi.org/project/wheel/), das über folgenden Code installiert werden kann:<br>\n",
    "<div style=\"background-color:rgba(0, 0, 0, 0.0470588); padding:10px 10px;font-family:monospace;\">\n",
    "python -m pip install wheel\n",
    "</div>\n",
    "\n",
    "   Wenn `numpy` und `wheel` installiert sind, kann die Installation von `matplotlib` über folgenden Code gestartet werden:<br>\n",
    "<div style=\"background-color:rgba(0, 0, 0, 0.0470588); padding:10px 10px;font-family:monospace;\">\n",
    "python -m pip install matplotlib\n",
    "</div>\n",
    "   Wenn Sie sich nun die Liste der installierten externen Module anschauen, wird Ihnen auffallen, dass durch die Installation von `matplotlib`noch weitere Module mitinstalliert wurden. Die sind automatisch mitinstalliert worden, da `matplotlib` sich auf diese bezieht.\n",
    "\n",
    "\n",
    "3.  **Installation von scipy:** <br>\n",
    "`Scipy` auf einem Windows-Betriebssystem über den regulären Weg zu installieren [ist sehr aufwendig](https://scipy.org/install.html). Um diesen Aufwand zu umgehen, kann man auch eine kompilierte [Binary-Datei installieren](https://www.lfd.uci.edu/~gohlke/pythonlibs/). Das Package benötigt aber das Package [`mkl`](https://pypi.org/project/mkl/) vorinstalliert.<br>\n",
    "<div style=\"background-color:rgba(0, 0, 0, 0.0470588); padding:10px 10px;font-family:monospace;\">\n",
    "python -m pip install mkl\n",
    "</div>\n",
    "\n",
    "   Danach laden Sie sich das für Ihre Installation richtige binary-File aus der [verlinkten Liste runter](https://www.lfd.uci.edu/~gohlke/pythonlibs/#scipy) und starten die Installation mit der lokalen `.whl` -Datei über folgendes Kommando. Dabei müssen Sie den Pfad und den Dateinamen noch anpassen.<br>\n",
    "<div style=\"background-color:rgba(0, 0, 0, 0.0470588); padding:10px 10px;font-family:monospace;\">\n",
    "python -m pip install C:\\Users\\~User\\Downloads\\scipy-1.5.X-cp3X-cp3X-win_amdXX.whl\n",
    "</div>\n",
    "\n",
    "Nun sollten alle externen Module - bis auf Jupyter Notebook - auf Ihrem Computer installiert sein, die sie für das Einführungs-Notebook benötigen. Falls Sie weitere Informationen benötigen, welche Möglichkeiten Ihnen bei der Installation und Update mit pip zur Verfügung stehen, können Sie sich noch folgende Links anschauen [(1)](https://packaging.python.org/tutorials/installing-packages/) [(2)](https://pip-python3.readthedocs.io/en/latest/reference/pip_install.html#pip-install-examples) [(3)](https://pip.pypa.io/en/latest/user_guide/#installing-from-wheels).\n",
    "\n",
    "***"
   ]
  },
  {
   "cell_type": "markdown",
   "metadata": {},
   "source": [
    "<a id='jupyter'></a><div><img src=\"img/IMG-jupyter.png\" style=\"float:left\"><h2 style=\"position: relative; top: 6px; left: 6px\">3. Jupyter Notebook </h2></div>\n",
    "\n",
    "`Jupyter Notebook` ist eine interaktive Computerumgebung, mit der Benutzer Notizbuchdokumente erstellen können, die Folgendes umfassen: - Live-Code - Interaktive Widgets - Diagramme - Erzähltext - Gleichungen - Bilder - Video usw.  \n",
    "Über die Kernel- und Messaging-Architektur von Jupyter ermöglicht das Notebook die Ausführung von Code in verschiedenen Programmiersprachen. Für jedes Notizbuchdokument (auch Notebook), das ein Benutzer öffnet, startet die Webanwendung einen Kernel, der den Code für dieses Notizbuch ausführt. Hier benutzen wir Python3 als Kernel.  \n",
    "    \n",
    "Folgende Informationen zum Umgang sind wichtig zu wissen:\n",
    "\n",
    "- Der Aufbau ist in Zellen. Dabei kann eine Zelle zum Beispiel Pythoncode (```Code```) oder Text/Bilder (```Markdown```) beinhalten. \n",
    "- Zellen mit Code können ausgeführt werden, indem man auf den Run-button klickt oder auf ```Umschalt``` + ```Enter```.\n",
    "- Auch Zellen mit Text können (wenn sie im Bearbeitungsmodus sind) mittels Run-Button oder ```Umschalt``` + ```Enter``` ausgeführt werden. \n",
    "- Die Ergebnisse aller ausgeführten Zellen bleiben dabei gespeichert und können in der nächsten Zelle wieder verwendet werden.\n",
    "- Löschen der kompletten Ausgabe geht über das Menüband unter ```Kernel``` -> ```Restart & Clear All Output```.\n",
    "\n",
    "    \n",
    "Weitere Hinweise zu dessen Verwendung finden Sie [hier](https://jupyter.org/index.html).\n",
    "\n",
    "***\n",
    "\n",
    "<h5>Installation von Jupyter Notebook</h5>\n",
    "\n",
    "Zur Installation von [`Jupyter Notebook`](https://pypi.org/project/jupyter/) wird wieder `pip`verwendet. Nutzen Sie dafür folgendes Kommando:<br>\n",
    "<div style=\"background-color:rgba(0, 0, 0, 0.0470588); padding:10px 10px;font-family:monospace;\">\n",
    "python -m pip install jupyter\n",
    "</div><br>\n",
    "\n",
    "Starten können sie `Jupyter Notebook` genau wie `python` oder `pip` über die Eingabeaufforderung von Windows mittels folgendem Kommando:<br>\n",
    "<div style=\"background-color:rgba(0, 0, 0, 0.0470588); padding:10px 10px;font-family:monospace;\">\n",
    "jupyter notebook\n",
    "</div>\n",
    "\n",
    "Daraufhin startet in der Eingabeaufforderung `Jupyter Notebook` und Ihr Standardbrowser öffnet sich mit dem Notebook-Fenster. Sie können das Programm auch mit einem anderen Browser verwenden, indem Sie den in der Eingabeaufforderung mit ausgegebenen http:\\-Link nutzen.\n",
    "Wenn Sie nun im Browser ein oder mehrere Notebooks (`.ipynb`) öffnen, wird in der Eingabeaufforderung für jedes Notebook ein neuer Python-Kernel gestartet.\n",
    "\n",
    "***"
   ]
  },
  {
   "cell_type": "markdown",
   "metadata": {},
   "source": [
    "<a id='signalrep'></a><div><img src=\"img/IMG-graph.png\" style=\"float:left\"><h2 style=\"position: relative; top: 6px; left: 6px\"> 4. Signalrepräsentation</h2>"
   ]
  },
  {
   "cell_type": "markdown",
   "metadata": {},
   "source": [
    "Zunächst schauen wir uns an, wie man mit Python typische Eingangssignale erzeugen kann und sich diese graphisch darstellen lassen.\n",
    "Dafür benötigen wir aus dem Modul ```numpy``` Funktionen zur Erzeugung von Arrays. Zur Visualisierung verwenden wir aus dem Modul ```matplotlib``` das Objekt ```pyplot```.\n",
    "\n",
    "Die Module und Objekte lassen sich wie folgt importieren:\n",
    "\n",
    "```python\n",
    "import numpy as np\n",
    "import matplotlib.pyplot as plt\n",
    "\n",
    "```\n",
    "\n",
    "Probieren Sie es in der nächsten Zelle gleich mal aus, indem sie die mit [..] gekennzeichneten Zeilen ersetzen!"
   ]
  },
  {
   "cell_type": "code",
   "execution_count": null,
   "metadata": {},
   "outputs": [],
   "source": [
    "# Hier können Sie Python-Code hineinschreiben und mit Shift+Enter ausführen!\n",
    "# Module importieren (numpy und matplotlib.pyplot)\n",
    "[..]\n",
    "[..]\n",
    "\n",
    "\n",
    "# Erzeugung eines linearen Arrays als Zeitbereich\n",
    "t = np.linspace(-5, 5, 1001)"
   ]
  },
  {
   "cell_type": "code",
   "execution_count": null,
   "metadata": {},
   "outputs": [],
   "source": [
    "# Lösung:\n",
    "# Hier können Sie Python-Code hineinschreiben und mit Shift+Enter ausführen!\n",
    "# Module importieren (numpy und matplotlib.pyplot)\n",
    "import numpy as np\n",
    "import matplotlib.pyplot as plt\n",
    "\n",
    "\n",
    "# Erzeugung eines linearen Arrays als Zeitbereich\n",
    "t = np.linspace(-5, 5, 1001)"
   ]
  },
  {
   "cell_type": "markdown",
   "metadata": {},
   "source": [
    "Die Funktion ```np.linspace(a,z,res)``` erzeugt ein äquidistantes Zahlenarray zwischen der unteren Schrank ```a``` und der oberen Schranke ```z``` mit der Auflösung von ```res```. Den Inhalt von Variablen lässt sich anzeigen, indem man das ```print()```-Kommando verwendet oder die Variable alleine ans Ende der Zelle in eine Zeile schreibt.\n",
    "\n",
    "Lassen Sie sich also nun in der folgenden Zelle das Array ausgeben! (Da die Auflösung sehr groß gesetzt ist, ist auch das Array dementsprechend groß und wird nicht vollständig angezeigt. Deshalb kann man sich auch nur einen Ausschnitt des Arrays mit z.B. ```t[0:9]``` anzeigen lassen.)\n"
   ]
  },
  {
   "cell_type": "code",
   "execution_count": null,
   "metadata": {},
   "outputs": [],
   "source": [
    "# Betrachten des Inhalts der Variable 't'.\n",
    "[..]\n"
   ]
  },
  {
   "cell_type": "code",
   "execution_count": null,
   "metadata": {},
   "outputs": [],
   "source": [
    "# Lösung\n",
    "# Betrachten des Inhalts der Variable 't'.\n",
    "t[0:9]"
   ]
  },
  {
   "cell_type": "markdown",
   "metadata": {},
   "source": [
    "Es lassen sich noch weitere Eigenschaften der Variablen und des Inhalts anzeigen:"
   ]
  },
  {
   "cell_type": "code",
   "execution_count": null,
   "metadata": {},
   "outputs": [],
   "source": [
    "# Betrachtung der Eigenschaften:\n",
    "t_length = len(t)\n",
    "t_type = type(t)\n",
    "t_entry_type = type(t[0])\n",
    "\n",
    "# Setzen Sie in der print()-Eingabe anstelle [..] ein.\n",
    "\n",
    "print(\"Array-Länge: {};   Arraytyp: {};   Elementtyp: {}\".format( [..], [..], [..]))"
   ]
  },
  {
   "cell_type": "code",
   "execution_count": null,
   "metadata": {},
   "outputs": [],
   "source": [
    "# Betrachtung der Eigenschaften:\n",
    "t_length = len(t)\n",
    "t_type = type(t)\n",
    "t_entry_type = type(t[0])\n",
    "\n",
    "# Setzen Sie in der print()-Eingabe anstelle [..] ein.\n",
    "\n",
    "print(\"Array-Länge: {};   Arraytyp: {};   Elementtyp: {}\".format( t_length, t_type, t_entry_type))"
   ]
  },
  {
   "cell_type": "markdown",
   "metadata": {},
   "source": [
    "<h3> Exponentielle Funktion</h3>\n",
    "\n",
    "Zur Erzeugung einer exponentiellen Funktion kann aus dem Modul ```numpy``` das Objekt ```exp``` verwendet werden. Mit dem Objekt ```plt``` kann dann die exponentielle Funktion geplottet werden."
   ]
  },
  {
   "cell_type": "code",
   "execution_count": null,
   "metadata": {},
   "outputs": [],
   "source": [
    "# Erzeugung eines Arrays mit exponentiellen y-Werten für alle Einträge in t.\n",
    "\n",
    "m = 0.7                          # Wachstumsrate\n",
    "s = np.exp(m*t)                  # Exponentialfunktion\n",
    "\n",
    "\n",
    "# Graphische Darstellung\n",
    "plt.gcf().set_size_inches(8, 5)  # Fenstergröße festlegen\n",
    "plt.title(u's = exp(0.7*t)')     # Titel einfügen\n",
    "plt.xlabel(u't  [Zeit]')         # x-Achsenbeschriftung einfügen\n",
    "plt.ylabel(u's [Amplitude]')     # y-Achsenbeschriftung einfügen\n",
    "plt.plot(t, s)                   # Festlegen der Variablen x und y\n",
    "plt.show()                       # Plot zeigen"
   ]
  },
  {
   "cell_type": "markdown",
   "metadata": {},
   "source": [
    "Das Objekt ```np.exp()``` kann auch mit komplexen Exponenten verwendet werden.\n",
    "\n",
    "Zum aneinanderfügen der Plots wird hier zusätzlich die Funktion [```subplot```](https://matplotlib.org/3.2.1/api/_as_gen/matplotlib.pyplot.subplot.html) verwendet."
   ]
  },
  {
   "cell_type": "code",
   "execution_count": null,
   "metadata": {},
   "outputs": [],
   "source": [
    "# komplexe Exponentialkomponente\n",
    "\n",
    "m = complex(0.7, 7)      # 0.7 = Realteil, 7 = Imaginärteil\n",
    "\n",
    "# Erzeugung eines Arrays mit exponentiellen y-Werten mit t als x-Werten.\n",
    "\n",
    "s = [..] # Ergänzen Sie die korrekte Funktion.\n",
    "\n",
    "\n",
    "# Graphische Darstellung mittels Subplots\n",
    "plt.subplot(221)\n",
    "plt.title(u'Realteil')\n",
    "plt.xlabel(u't  [Zeit]')\n",
    "plt.ylabel(u's [Re{Amplitude}]')\n",
    "plt.plot(t,np.real(s))   # Plot des Realteils über np.real()\n",
    "plt.subplot(222)\n",
    "plt.title(u'Imaginärteil')\n",
    "plt.xlabel(u't  [Zeit]')\n",
    "plt.ylabel(u's [Im{Amplitude}]')\n",
    "plt.plot(t,np.imag(s))   # Plot des Imaginörteils über np.imag()\n",
    "plt.subplot(223)\n",
    "plt.title(u'Absolut')\n",
    "plt.xlabel(u't  [Zeit]')\n",
    "plt.ylabel(u's [|Amplitude|]')\n",
    "plt.plot(t,np.abs(s))    # Plot des Absolutwerts über np.abs()\n",
    "plt.subplot(224)\n",
    "plt.title(u'Phase')\n",
    "plt.xlabel(u't  [Zeit]')\n",
    "plt.ylabel(u's [Radiant]')\n",
    "plt.plot(t,np.angle(s))  # Plot der Phase über np.angle()\n",
    "\n",
    "plt.gcf().set_size_inches(15, 10)\n",
    "plt.show()"
   ]
  },
  {
   "cell_type": "code",
   "execution_count": null,
   "metadata": {},
   "outputs": [],
   "source": [
    "#Lösung\n",
    "# komplexe Exponentialkomponente\n",
    "\n",
    "m = complex(0.7, 7)      # 0.7 = Realteil, 7 = Imaginärteil\n",
    "\n",
    "# Erzeugung eines Arrays mit exponentiellen y-Werten mit t als x-Werten.\n",
    "\n",
    "s = np.exp(m*t) # Ergänzen Sie die korrekte Funktion.\n",
    "\n",
    "\n",
    "# Graphische Darstellung mittels Subplots\n",
    "plt.subplot(221)\n",
    "plt.title(u'Realteil')\n",
    "plt.xlabel(u't  [Zeit]')\n",
    "plt.ylabel(u's [Re{Amplitude}]')\n",
    "plt.plot(t,np.real(s))   # Plot des Realteils über np.real()\n",
    "plt.subplot(222)\n",
    "plt.title(u'Imaginärteil')\n",
    "plt.xlabel(u't  [Zeit]')\n",
    "plt.ylabel(u's [Im{Amplitude}]')\n",
    "plt.plot(t,np.imag(s))   # Plot des Imaginörteils über np.imag()\n",
    "plt.subplot(223)\n",
    "plt.title(u'Absolut')\n",
    "plt.xlabel(u't  [Zeit]')\n",
    "plt.ylabel(u's [|Amplitude|]')\n",
    "plt.plot(t,np.abs(s))    # Plot des Absolutwerts über np.abs()\n",
    "plt.subplot(224)\n",
    "plt.title(u'Phase')\n",
    "plt.xlabel(u't  [Zeit]')\n",
    "plt.ylabel(u's [Radiant]')\n",
    "plt.plot(t,np.angle(s))  # Plot der Phase über np.angle()\n",
    "\n",
    "plt.gcf().set_size_inches(15, 10)\n",
    "plt.show()"
   ]
  },
  {
   "cell_type": "markdown",
   "metadata": {},
   "source": [
    "<h3> Sinus und Cosinus</h3>\n",
    "\n",
    "Auch Sinus- und Cosinussignale lassen sich über Objekte aus dem numpy-Modul erzeugen.\n",
    "Dafür stehen folgende Objekte zur Verfügung:\n",
    "\n",
    "- ```np.pi```: Wert von π,\n",
    "- ```np.sin()```: Sinusfunktion,\n",
    "- ```np.cos()```: Cosinusfunktion.\n",
    "\n",
    "\n",
    "\n",
    "Implementieren Sie nun im Folgenden ein Array mit den Werten der Sinusfunktion mit der Kreisfrequenz von π/3 und eine Cosinusfunktion mit der Kreisfrequenz von 2/3 * π im zeitlichen Bereich von -5 bis 5 und einer Auflösung von 1001 Einheiten."
   ]
  },
  {
   "cell_type": "code",
   "execution_count": null,
   "metadata": {},
   "outputs": [],
   "source": [
    "# Implementieren sie ein Sinus- und Cosinussignal mit den vorgegebenen Kreisfrequenzen\n",
    "\n",
    "s1 = [..]           # Sinus mit Kreisfrequenz π/3\n",
    "s2 = [..]           # Cosinus mit Kreisfrequenz 2π/3\n",
    "\n",
    "\n",
    "# Graphische Darstellung mittels Subplots\n",
    "# w = pi/3, Sinus:\n",
    "plt.subplot(121)\n",
    "plt.xlabel(u't  [Zeit]')\n",
    "plt.ylabel(u's1 [Amplitude]')\n",
    "plt.plot(t, s1)\n",
    "plt.title(u'sin((π/3)*t)')\n",
    "\n",
    "# w = 2pi/3, Cosinus:\n",
    "plt.subplot(122)\n",
    "plt.xlabel(u't  [Zeit]')\n",
    "plt.ylabel(u's2 [Amplitude]')\n",
    "plt.plot(t, s2)\n",
    "plt.title(u'cos((2π/3)*t)')\n",
    "\n",
    "plt.gcf().set_size_inches(15, 5)\n",
    "plt.show()"
   ]
  },
  {
   "cell_type": "code",
   "execution_count": null,
   "metadata": {},
   "outputs": [],
   "source": [
    "# Lösung\n",
    "# Implementieren sie ein Sinus- und Cosinussignal mit den vorgegebenen Kreisfrequenzen\n",
    "\n",
    "s1 = np.sin(np.pi/3 * t)           # Sinus mit Kreisfrequenz π/3\n",
    "s2 = np.cos(2/3 * np.pi * t)           # Cosinus mit Kreisfrequenz 2π/3\n",
    "\n",
    "\n",
    "# Graphische Darstellung mittels Subplots\n",
    "# w = pi/3, Sinus:\n",
    "plt.subplot(121)\n",
    "plt.xlabel(u't  [Zeit]')\n",
    "plt.ylabel(u's1 [Amplitude]')\n",
    "plt.plot(t, s1)\n",
    "plt.title(u'sin((π/3)*t)')\n",
    "\n",
    "# w = 2pi/3, Cosinus:\n",
    "plt.subplot(122)\n",
    "plt.xlabel(u't  [Zeit]')\n",
    "plt.ylabel(u's2 [Amplitude]')\n",
    "plt.plot(t, s2)\n",
    "plt.title(u'cos((2π/3)*t)')\n",
    "\n",
    "plt.gcf().set_size_inches(15, 5)\n",
    "plt.show()"
   ]
  },
  {
   "cell_type": "markdown",
   "metadata": {},
   "source": [
    "<h3> Impuls- und Sprungsignale</h3>\n",
    "\n",
    "Mit dem Objekt [```np.where```](https://numpy.org/doc/stable/reference/generated/numpy.where.html) können Impulse und Sprünge implementiert werden. Das Objekts ist wie folgt aufgebaut: ```np.where(Bedingung, Ein, Aus)```.\n",
    "Über die ```Bedingung``` lässt sich zwischen den vorgegebenen Variablen ```Ein``` und ```Aus``` schalten. Für einen Sprung benötigt man eine Bedingung, zum Beispiel (t >= 0). Für einen Impuls werden zwei Bedingungen benötigt (Beispiel: (t >= 0) & (t <= 1)).\n",
    "\n",
    "\n",
    "\n",
    "\n",
    "Implementieren Sie im Folgenden die vorgegebenen Signale im zeitlichen Bereich von -5 bis 5 und einer Auflösung von 1001 Werten."
   ]
  },
  {
   "cell_type": "code",
   "execution_count": null,
   "metadata": {},
   "outputs": [],
   "source": [
    "# Impulsbreite = 0.1 um den Nullpunkt, Amplitude = 1, Vorzustand = 0.\n",
    "s1 = np.where( [..] , 1, 0)\n",
    "\n",
    "# Impuls mit Breite = 3 mit dem Mittelpunkt bei t = -0.5, Amplitude = 1, Vorzustand = 0.\n",
    "s2 = [..]\n",
    "\n",
    "# Sprung bei t >= -2, Amplitude = 1, Vorzustand = -0.2.\n",
    "s3 = [..]\n",
    "\n",
    "\n",
    "# Graphische Darstellung mittels Subplots\n",
    "plt.subplot(221)\n",
    "plt.title(u'Impulsbreite = 3')\n",
    "plt.xlabel(u't  [Zeit]')\n",
    "plt.ylabel(u's1 [Amplitude]')\n",
    "plt.plot(t, s1)\n",
    "\n",
    "plt.subplot(222)\n",
    "plt.title(u'Impulsbreite = 0.1')\n",
    "plt.xlabel(u't  [Zeit]')\n",
    "plt.ylabel(u's2 [Amplitude]')\n",
    "plt.plot(t, s2)\n",
    "\n",
    "plt.subplot(223)\n",
    "plt.title(u'Sprung')\n",
    "plt.xlabel(u't  [Zeit]')\n",
    "plt.ylabel(u's3 [Amplitude]')\n",
    "plt.plot(t, s3)\n",
    "\n",
    "plt.gcf().set_size_inches(15, 10)\n",
    "plt.show()"
   ]
  },
  {
   "cell_type": "code",
   "execution_count": null,
   "metadata": {},
   "outputs": [],
   "source": [
    "# Impulsbreite = 0.1 um den Nullpunkt, Amplitude = 1, Vorzustand = 0.\n",
    "s1 = np.where((t >= -0.05) & (t <= 0.05), 1, 0)\n",
    "\n",
    "# Impuls mit Breite = 3 mit dem Mittelpunkt bei t = -0.5, Amplitude = 1, Vorzustand = 0.\n",
    "s2 = np.where((t >= -2) & (t <= 1), 1, 0)\n",
    "\n",
    "# Sprung bei t >= -2, Amplitude = 1, Vorzustand = -0.2.\n",
    "s3 = np.where(t >= -2, .8, -.2) \n",
    "\n",
    "\n",
    "# Graphische Darstellung mittels Subplots\n",
    "plt.subplot(221)\n",
    "plt.title(u'Impulsbreite = 0.1')\n",
    "plt.xlabel(u't  [Zeit]')\n",
    "plt.ylabel(u's1 [Amplitude]')\n",
    "plt.plot(t, s1)\n",
    "\n",
    "plt.subplot(222)\n",
    "plt.title(u'Impulsbreite = 3')\n",
    "plt.xlabel(u't  [Zeit]')\n",
    "plt.ylabel(u's2 [Amplitude]')\n",
    "plt.plot(t, s2)\n",
    "\n",
    "plt.subplot(223)\n",
    "plt.title(u'Sprung')\n",
    "plt.xlabel(u't  [Zeit]')\n",
    "plt.ylabel(u's3 [Amplitude]')\n",
    "plt.plot(t, s3)\n",
    "\n",
    "plt.gcf().set_size_inches(15, 10)\n",
    "plt.show()"
   ]
  },
  {
   "cell_type": "markdown",
   "metadata": {},
   "source": [
    "<h3> Diskrete Signaldarstellung</h3>\n",
    "\n",
    "Alle bisherigen Beispiele sind zeitdiskret, zwischen deren Punkten eine Linie eingezeichnet wurde. Durch die hohe Anzahl an berechneten Punkten sehen die Funktionen zeitkontinuierlich aus.\n",
    "\n",
    "\n",
    "Um ein Array mit inkrementierten Zahlen zu erzeugen, kann ```np.arange()``` verwendet werden.\n",
    "Diese Eigenschaft lässt sich gut mittels ```plt.stem()``` darstellen.\n",
    "Zudem noch ```plt.ylim()``` genutzt, um die Anzeige der y-Achse manuell festzulegen. \n"
   ]
  },
  {
   "cell_type": "code",
   "execution_count": null,
   "metadata": {},
   "outputs": [],
   "source": [
    "'''\n",
    "Beispiel: Diskrete Exponentielle Signale\n",
    "'''\n",
    "# Anzahl von Samplen\n",
    "n = np.arange(0, 20)\n",
    "\n",
    "\n",
    "# Diskretes Signal\n",
    "s = np.exp(-0.3*n)\n",
    "\n",
    "\n",
    "# Graphische Darstellung mittels Subplots\n",
    "plt.ylim(-0.5, 1.5)                      # Wertebereich zum Anzeigen\n",
    "plt.xlabel(u'n  [Messpunkte]')\n",
    "plt.ylabel(u's [Amplitude]')\n",
    "plt.stem(n, s, use_line_collection=True) # Stem plot\n",
    "\n",
    "plt.gcf().set_size_inches(8, 5)\n",
    "plt.show()"
   ]
  },
  {
   "cell_type": "code",
   "execution_count": null,
   "metadata": {},
   "outputs": [],
   "source": [
    "'''\n",
    "Aufgabe 1.4: Diskrete Sinus- und Cosinussignale implementieren\n",
    "'''\n",
    "\n",
    "n = np.arange(0, 50)\n",
    "\n",
    "plt.subplot(221)\n",
    "plt.title(u'sin(npi)')\n",
    "plt.stem(n, np.sin(n*np.pi), use_line_collection=True)\n",
    "plt.subplot(222)\n",
    "plt.title(u'sin(npi/6)')\n",
    "plt.stem(n, np.sin(n*np.pi/6), use_line_collection=True)\n",
    "plt.subplot(223)\n",
    "plt.title(u'cos(npi/9)')\n",
    "plt.stem(n, np.cos(n*np.pi/9), use_line_collection=True)\n",
    "plt.subplot(224)\n",
    "plt.title(u'cos(2n)')\n",
    "plt.stem(n,np.cos(2*n), use_line_collection=True)\n",
    "\n",
    "plt.gcf().set_size_inches(15, 10)\n",
    "plt.show()"
   ]
  },
  {
   "cell_type": "code",
   "execution_count": null,
   "metadata": {},
   "outputs": [],
   "source": [
    "'''\n",
    "Aufgabe 1.5: Impulssignale implementieren\n",
    "'''\n",
    "import numpy as np\n",
    "import matplotlib.pyplot as plt\n",
    "\n",
    "n = np.arange(-5, 5)\n",
    "s = np.where(n==-2, 1, 0)\n",
    "\n",
    "plt.ylim(-0.5, 1.5)  \n",
    "plt.stem(n, s, use_line_collection=True)\n",
    "plt.gcf().set_size_inches(8, 5)\n",
    "plt.show()"
   ]
  },
  {
   "cell_type": "code",
   "execution_count": null,
   "metadata": {},
   "outputs": [],
   "source": [
    "'''\n",
    "Aufgabe 1.6: Diskrete Sprungsignale implementieren\n",
    "'''\n",
    "import numpy as np\n",
    "import matplotlib.pyplot as plt\n",
    "\n",
    "n = np.arange(-10, 10)\n",
    "s = np.where(n>=-2, 1, 0)\n",
    "\n",
    "plt.ylim(-0.5, 1.5)  \n",
    "plt.stem(n, s, use_line_collection=True)\n",
    "plt.gcf().set_size_inches(8, 5)\n",
    "plt.show()"
   ]
  },
  {
   "cell_type": "markdown",
   "metadata": {},
   "source": [
    "    "
   ]
  },
  {
   "cell_type": "markdown",
   "metadata": {},
   "source": [
    "<a id='signalop'></a><div><img src=\"img/IMG-signal.png\" style=\"float:left\"><h2 style=\"position: relative; top: 6px; left: 6px\"> 5. Signaloperation</h2>"
   ]
  },
  {
   "cell_type": "code",
   "execution_count": null,
   "metadata": {},
   "outputs": [],
   "source": [
    "'''\n",
    "Beispiel: Addition und Multiplikation von Signalen\n",
    "'''\n",
    "import numpy as np\n",
    "import matplotlib.pyplot as plt\n",
    "\n",
    "t = np.linspace(-5, 5, 1000)\n",
    "s1 = np.sin(2*np.pi*t)\n",
    "s2 = np.exp(-t/2)\n",
    "\n",
    "plt.subplot(221)\n",
    "plt.title(u's1')\n",
    "plt.plot(t, s1)\n",
    "plt.subplot(222)\n",
    "plt.title(u's2')\n",
    "plt.plot(t, s2)\n",
    "plt.subplot(223)\n",
    "plt.title(u's1+s2')\n",
    "plt.plot(t, s1+s2)\n",
    "plt.subplot(224)\n",
    "plt.title(u's1xs2')\n",
    "plt.plot(t, s1*s2)\n",
    "\n",
    "plt.gcf().set_size_inches(15, 10)\n",
    "plt.show()"
   ]
  },
  {
   "cell_type": "code",
   "execution_count": null,
   "metadata": {},
   "outputs": [],
   "source": [
    "'''\n",
    "Aufgabe 1.7: Addition und Multiplikation von diskreten Signalen\n",
    "'''\n",
    "import numpy as np\n",
    "import matplotlib.pyplot as plt\n",
    "\n",
    "n = np.arange(-5, 5)\n",
    "s1 = np.cos(5*n)\n",
    "s2 = np.exp(-0.3*n)\n",
    "\n",
    "plt.subplot(221)\n",
    "plt.title(u's1')\n",
    "plt.stem(n, s1, use_line_collection=True)\n",
    "plt.subplot(222)\n",
    "plt.title(u's2')\n",
    "plt.stem(n, s2, use_line_collection=True)\n",
    "plt.subplot(223)\n",
    "plt.title(u's1+s2')\n",
    "plt.stem(n, s1+s2, use_line_collection=True)\n",
    "plt.subplot(224)\n",
    "plt.title(u's1xs2')\n",
    "plt.stem(n, s1*s2, use_line_collection=True)\n",
    "\n",
    "plt.gcf().set_size_inches(15, 10)\n",
    "plt.show()"
   ]
  },
  {
   "cell_type": "code",
   "execution_count": null,
   "metadata": {},
   "outputs": [],
   "source": [
    "'''\n",
    "Beispiel: Faltung von kontinuierlichen Signalen\n",
    "'''\n",
    "import numpy as np\n",
    "import matplotlib.pyplot as plt\n",
    "\n",
    "t = np.linspace(-5, 5, 1000)\n",
    "s1 = np.where((t >= -2) & (t <= 3), 1, 0) \n",
    "s2 = np.where(t <= 4, np.exp(0.7*t), 0)\n",
    "\n",
    "# Faltung\n",
    "s = np.convolve(s1, s2)\n",
    "ts = np.linspace(-10, 9, len(s))\n",
    "\n",
    "plt.subplot(221)\n",
    "plt.title(u's1')\n",
    "plt.plot(t, s1)\n",
    "plt.subplot(222)\n",
    "plt.title(u's2')\n",
    "plt.plot(t, s2)\n",
    "plt.subplot(212)\n",
    "plt.title(u's1*s2')\n",
    "plt.plot(ts, s)\n",
    "\n",
    "plt.gcf().set_size_inches(10, 10)\n",
    "plt.show()"
   ]
  },
  {
   "cell_type": "code",
   "execution_count": null,
   "metadata": {},
   "outputs": [],
   "source": [
    "'''\n",
    "Aufgabe 1.8: Faltung von diskreten Signalen\n",
    "'''\n",
    "import numpy as np\n",
    "import matplotlib.pyplot as plt\n",
    "\n",
    "n = np.arange(-5, 5)\n",
    "s1 = np.where((n >= -2) & (n <= 3), 1, 0) \n",
    "s2 = np.where(n >= -3, np.exp(-0.7*n), 0)\n",
    "\n",
    "s = np.convolve(s1, s2)\n",
    "ns = range(-10, 9)\n",
    "\n",
    "plt.subplot(221)\n",
    "plt.title(u's1')\n",
    "plt.stem(n, s1, use_line_collection=True)\n",
    "plt.subplot(222)\n",
    "plt.title(u's2')\n",
    "plt.stem(n, s2, use_line_collection=True)\n",
    "plt.subplot(212)\n",
    "plt.title(u's1*s2')\n",
    "plt.stem(ns, s, use_line_collection=True)\n",
    "\n",
    "plt.gcf().set_size_inches(10, 10)\n",
    "plt.show()"
   ]
  },
  {
   "cell_type": "markdown",
   "metadata": {},
   "source": [
    "    "
   ]
  },
  {
   "cell_type": "markdown",
   "metadata": {},
   "source": [
    "<a id='Fourier'></a><div><img src=\"img/IMG-Fourier.png\" style=\"float:left\"><h2 style=\"position: relative; top: 6px; left: 6px\">  6. Fourier-Transformation</h2>"
   ]
  },
  {
   "cell_type": "markdown",
   "metadata": {},
   "source": [
    "![signal](img/signal.gif) "
   ]
  },
  {
   "cell_type": "markdown",
   "metadata": {},
   "source": [
    "Hinweis: Die Beziehungen zwischen FS, FT, DTFT, DFT bzw. diskret vs. kontinuierlich und periodisch vs. nicht periodisch sehen Sie bitte die entsprechende Folie.  "
   ]
  },
  {
   "cell_type": "markdown",
   "metadata": {},
   "source": [
    "![FS](img/fourier.gif) "
   ]
  },
  {
   "cell_type": "code",
   "execution_count": null,
   "metadata": {},
   "outputs": [],
   "source": [
    "'''\n",
    "Aufgabe 2: Fourier-Transformation mittels FFT\n",
    "(kontinuierliches und nichtperiodisches Signal -> kontinuierliches und nichtperiodisches Spektrum)\n",
    "'''\n",
    "import numpy as np\n",
    "import matplotlib.pyplot as plt\n",
    "from scipy.fftpack import fft, ifft\n",
    "\n",
    "t = np.linspace(-2*np.pi, 2*np.pi, 200)  \n",
    "s = np.sinc(np.pi * t)  \n",
    "S = fft(s)\n",
    "st = ifft(S)\n",
    "\n",
    "plt.subplot(311)\n",
    "plt.title(u'Zeitbereich')\n",
    "plt.plot(t, s)\n",
    "plt.subplot(312)\n",
    "plt.title(u'Amplitudengang')\n",
    "plt.plot(np.abs(np.fft.fftshift(S)))\n",
    "plt.subplot(313)\n",
    "plt.title(u'Inverse Fourier-Transformation')\n",
    "plt.plot(t, np.real(st))\n",
    "             \n",
    "plt.gcf().set_size_inches(10, 15)\n",
    "plt.show()      "
   ]
  },
  {
   "cell_type": "markdown",
   "metadata": {},
   "source": [
    "__\\* Bemerkung__: Rechner können bloß diskrete Signal verarbeiten, d.h. die Fourier-Transformation von kontinuierlichen Signalen bzw. Spektralen von Computer nicht realisierbar."
   ]
  },
  {
   "cell_type": "markdown",
   "metadata": {},
   "source": [
    "----"
   ]
  },
  {
   "cell_type": "markdown",
   "metadata": {},
   "source": [
    "    "
   ]
  },
  {
   "cell_type": "markdown",
   "metadata": {},
   "source": [
    "### References\n",
    "\n",
    "1. Bild (Type of transformation) von [Steven W. Smith](http://www.dspguide.com/ch8/1.htm), Bild (Fourier Series) von [Lucas V. Barbosa](https://en.wikipedia.org/wiki/File:Fourier_series_and_transform.gif)   \n",
    "2. [Offizielle Tutorials](https://docs.python.org/3.7/tutorial/) über Python\n",
    "3. [Einführung](https://jupyter-notebook.readthedocs.io/en/stable/examples/Notebook/What%20is%20the%20Jupyter%20Notebook.html#Introduction) von Jupyter Notebook\n",
    "4. Eine visuelle Einführung von Fourier-Transformation: [What is the Fourier Transform](https://www.youtube.com/watch?v=spUNpyF58BY)\n",
    "5. DSP Guide: [The Scientist and Engineer's Guide to\n",
    "Digital Signal Processing](http://www.dspguide.com/pdfbook.htm)"
   ]
  },
  {
   "cell_type": "code",
   "execution_count": null,
   "metadata": {},
   "outputs": [],
   "source": [
    "%load_ext watermark\n",
    "\n",
    "# python, ipython, packages, and machine characteristics\n",
    "%watermark -v -m -p numpy,scipy,matplotlib,watermark \n",
    "\n",
    "# date\n",
    "print (\" \")\n",
    "%watermark -u -n -t -z "
   ]
  },
  {
   "cell_type": "code",
   "execution_count": null,
   "metadata": {},
   "outputs": [],
   "source": []
  }
 ],
 "metadata": {
  "kernelspec": {
   "display_name": "Python 3",
   "language": "python",
   "name": "python3"
  },
  "language_info": {
   "codemirror_mode": {
    "name": "ipython",
    "version": 3
   },
   "file_extension": ".py",
   "mimetype": "text/x-python",
   "name": "python",
   "nbconvert_exporter": "python",
   "pygments_lexer": "ipython3",
   "version": "3.9.0"
  }
 },
 "nbformat": 4,
 "nbformat_minor": 4
}
