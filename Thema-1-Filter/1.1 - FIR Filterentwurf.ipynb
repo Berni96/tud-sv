{
 "cells": [
  {
   "cell_type": "markdown",
   "metadata": {},
   "source": [
    "# FIR Filterentwurf"
   ]
  },
  {
   "cell_type": "markdown",
   "metadata": {},
   "source": [
    "<img style=\"float: right; margin:5px 0px 0px 10px\" src=\"img/prism.gif\" width=\"400\">\n",
    "\n",
    "Ein FIR-Filter (Finite Impulse Response) ist ein Filter, dessen Impulsantwort (oder Antwort auf eine Eingabe mit endlicher Länge) von endlicher Dauer ist, da sie sich in endlicher Zeit auf Null einstellt. Dies steht im Gegensatz zu IIR-Filtern (Infinite Impulse Response), die interne Rückkopplungen aufweisen und möglicherweise unbegrenzt weiter reagieren (normalerweise abklingend). Die Entwurfsmethoden umfassen Least MSE, Minimax, Frequenzabtastung usw. Hier diskutieren wir die Frequenzabtastung - und damit den Filterentwurf - mittels inverser Fourier-Transformation.\n",
    "\n",
    "## Inhalt  \n",
    "\n",
    "<table style=\"width:256px; border: 1px solid black; display: inline-block\">\n",
    "    <tr>\n",
    "    <td  style=\"text-align:right\" width=64px><img src=\"img/IMG-intro.png\" style=\"float:left\"></td>\n",
    "      <td style=\"text-align:left\" width=256px>\n",
    "          <a style=\"color:black; font-size:14px; font-weight:bold; text-decoration:none\" href='#intro'>1. Wiederholung</a>\n",
    "      </td>\n",
    "  </tr>  \n",
    "    <tr>\n",
    "    <td  style=\"text-align:right\" width=64px><img src=\"img/IMG-idtft.png\" style=\"float:left\"></td>\n",
    "      <td style=\"text-align:left\" width=256px>\n",
    "          <a style=\"color:black; font-size:14px; font-weight:bold; text-decoration:none\" href='#idtft'>2. Inverse DTFT</a>\n",
    "      </td>\n",
    "  </tr>  \n",
    "    <tr>\n",
    "    <td  style=\"text-align:right\" width=64px><img src=\"img/IMG-idft.png\" style=\"float:left\"></td>\n",
    "      <td style=\"text-align:left\" width=256px>\n",
    "          <a style=\"color:black; font-size:14px; font-weight:bold; text-decoration:none\" href='#idft'>2. Inverse DFT</a>\n",
    "      </td>\n",
    "  </tr>  \n",
    "</table>\n",
    "\n",
    "\n",
    "---"
   ]
  },
  {
   "cell_type": "markdown",
   "metadata": {},
   "source": [
    "<a id='intro'></a><div><img src=\"img/IMG-intro.png\" style=\"float:left\"><h2 style=\"position: relative; top: 6px; left: 6px\">1. Wiederholung </h2></div>"
   ]
  },
  {
   "cell_type": "markdown",
   "metadata": {},
   "source": [
    "Am Anfang wiederholen wir die Zusammenhänge zwischen Fourier-Transformation, Fourier-Reihe, DTFT und DFT:"
   ]
  },
  {
   "cell_type": "markdown",
   "metadata": {},
   "source": [
    "![transformation](img/transformation.jpg)"
   ]
  },
  {
   "cell_type": "markdown",
   "metadata": {},
   "source": [
    "- __Fourier-Reihe:__   \n",
    "Die Fourier-Reihe beschreibt, dass jede periodische Funktion $x(t)$ durch eine unendliche Reihe dargestellt werden kann, die aus Sinusfunktion und Cosinusfunktion besteht (die Sinusfunktion und die Cosinusfunktion werden als Basisfunktionen gewählt, weil sie orthogonal zuneinander sind). Nach der Euler-Formel können diese Funktionen als Exponentialform geschrieben werden:\n",
    "\\begin{equation}\n",
    "x_T(t) = \\sum_{n = -\\infty}^{\\infty}X_ne^{j\\omega_0 n t},\n",
    "\\end{equation}\n",
    "und weswegen die Fourier-Reihe auch als Exponentialreihe bezeichnet wird. Index $T$ verdeutlicht die Periodizität in $T$, wobei $T$ die zeitliche Periode ist, über welche die Fourier-Koeffizienten $X_n$ bestimmt werden. $\\omega_0 = \\frac{2\\pi}{T}$ ist die Grundfrequenz (in [rad/s]). \n",
    "- __Fourier-Transformation:__   \n",
    "Die Fourier-Transformation ist eigentlich eine Verallgemeinerung der Fourier-Reihe, da das Integral tatsächlich ein Summationsoperator in der Grenzform $T\\rightarrow \\infty \\Rightarrow \\omega_0 \\rightarrow 0$ ist [3]. Die Fourier-Transformation wird hauptsächlich zur Analyse kontinuierlicher nichtperiodischer Signale verwendet. Für ein kontinuerliches (= analoges), nichtperiodisches Signal kann das Spektrum durch Fourier-Transformation berechnet werden. Da das Signal kontinuierlich und  nichtperiodisch ist, muss es alle verschiedenen Frequenzen enthalten, wodurch das Spektrum ebenfalls nichtperiodisch und kontinuierlich (in $\\omega$) ist.   \n",
    "- __DTFT:__   \n",
    "Da der Computer nur digitale Signale verarbeiten kann, ist es zunächst erforderlich, das ursprüngliche analoge Signal im Zeitbereich zu diskretisieren, d.h., im Zeitbereich abzutasten (z.B. über einen Dirac-Impuls an den Zeitpunkten $k\\Delta t$) und eine Fourier-Transformation für das abgetastete zeitdiskrete Signal, die sogenannte zeitdiskrete Fourier-Transformation, durchzuführen. Das Zeitsignal ist damit nicht-periodisch und diskret, wogegen das Spektrum periodisch und kontinuierlich ist. Dies ist der symmetrische Gegenfall zu der Fourier-Reihe, wo das analysierte Zeitsignal periodisch und kontinuierlich ist, das Spektrum dagegen diskret und nicht-periodisch ist (= Linienspektrum). Für Theorie-Enthusiasten ist eine ausführlichere Ausführung dazu im OPAL-verfügbaren Dokument __impulseSamplingAndDTFT.pdf__ zu finden.\n",
    "- __DFT:__   \n",
    "Die diskrete Fourier-Transformation ist eine diskrete Form der kontinuierlichen Fourier-Transformation sowohl im Zeitbereich als auch im Frequenzbereich, die die Abtastung des Zeitbereichssignals in die Abtastung der DTFT im Frequenzbereich umwandelt. In dieser Form sind die Sequenzen an beiden Enden der Transformation (Zeitbereich und Frequenzbereich) von endlicher Länge, aber tatsächlich sollten diese beiden Sätze von Sequenzen als die Hauptwertsequenzen diskreter periodischer Signale angesehen werden. Selbst wenn die DFT von einem diskreten Signal mit endlicher Länge durchgeführt wird, wird implizit angenommen, dass es über diesen Bereich hinaus periodisch fortgesetzt ist. Nach Übung 5 wird hier noch ein Dokument in OPAL bereitgestellt werden, in dem der Zusammenhang zwischen der DTFT und der DFT theoretisch genauer betrachtet wird (für alle Interessierten).\n",
    "\n",
    "----"
   ]
  },
  {
   "cell_type": "markdown",
   "metadata": {},
   "source": [
    "<a id='idtft'></a><div><img src=\"img/IMG-idtft.png\" style=\"float:left\"><h2 style=\"position: relative; top: 6px; left: 6px\">2. Inverse DTFT </h2></div>"
   ]
  },
  {
   "cell_type": "markdown",
   "metadata": {},
   "source": [
    "Die inverse DTFT ist eine Möglichkeit, um die Impulsantwort im Zeitbereich aus einem vorgegebenen Frequenzgang $H(\\omega)$ im Bild/Spektralbereich zu berechnen. Der gegebene Amplitudenfrequenzgang ist kontinuierlich, aperiodisch und rell (siehe Übung 2, Aufgabe 1). Unter der Verwendung der inversen DTFT,  \n",
    "\\begin{equation}\n",
    "x(k)=\\frac{1}{2\\pi}\\int_{-\\pi}^{\\pi}H(e^{j\\Omega})e^{jk\\Omega}d\\Omega \n",
    "\\end{equation}  \n",
    "wird implizit die Annahme getroffen, dass das ursprünglich aperiodische Spektrum $H(\\omega)$ nun periodisch ist (mit einer spektralen Grundperiode, und weiterhin kontinuierlich + reell), über $H(e^{j\\Omega})$ ausgedrückt wird und in eine nicht-periodische, diskrete Impulsantwort $x(k)$ transformiert wird.\n",
    "Wie in der Übung wird nachfolgend wird ein Hochpassfilter über die Methode der inversen DTFT entworfen:"
   ]
  },
  {
   "cell_type": "code",
   "execution_count": null,
   "metadata": {},
   "outputs": [],
   "source": [
    "# Importieren Sie:\n",
    "#    - numpy mit dem Alias np\n",
    "#    - Das Modul pyplot aus der Bibliothek matplotlib mit dem Alias plt\n",
    "#    - Die Module integrate und fftpack aus der Bibliothek scipy.\n",
    "\n",
    "import numpy as np\n",
    "import matplotlib.pyplot as plt\n",
    "from scipy import integrate, fftpack, signal"
   ]
  },
  {
   "cell_type": "markdown",
   "metadata": {},
   "source": [
    "-- Baustelle von Arne (mache ich Montag) --\n",
    "\n",
    "Aus scipy:\n",
    "- [`fftpack`](https://docs.scipy.org/doc/scipy/reference/fftpack.html): Modul mit FFT-Objekten. <br>\n",
    " - [`fft()`](https://docs.scipy.org/doc/scipy/reference/generated/scipy.fftpack.fft.html#scipy.fftpack.fft), []()\n",
    " - [`ifft()`]\n",
    "\n",
    "- [`signal`] -> [`get_window()`]\n",
    "- [`integrate.quad()`]\n",
    "Aus numpy\n",
    "- [`fft.fftshift()`]\n",
    "- [`fft.ifftshift()`]\n",
    "\n",
    "\n",
    "Neue Objekte zur Darstellung:\n",
    "- [`xlim()`](https://matplotlib.org/3.1.1/api/_as_gen/matplotlib.pyplot.xlim.html): Get or set the x limits of the current axes.\n",
    "- [`xticks()`](https://matplotlib.org/3.1.1/api/_as_gen/matplotlib.pyplot.xticks.html): Verschiebt die X-Achse. Get or set the current tick locations and labels of the x-axis."
   ]
  },
  {
   "cell_type": "code",
   "execution_count": null,
   "metadata": {},
   "outputs": [],
   "source": [
    "'''\n",
    "Beispiel: Endliche Impulsantwort eines Hochpassfilters mittels inverser DTFT\n",
    "'''\n",
    "\n",
    "# Initialisierung aller wichtigen Variablen:\n",
    "fs_Hz = 800            # Abtastfrequenz in [Hz]\n",
    "fs_rad = 2*np.pi*fs_Hz # Abtastfrequenz in [rad]\n",
    "fc_Hz = 400            # Grenzfrequenz (= corner frequency) des Filters in [Hz]\n",
    "wc_rad = np.pi*fc_Hz   # Grenzfrequenz des Filters in [rad]\n",
    "A = 1                  # Amplitude im Passband\n",
    "h = []                 # Impulsantwort (Allokation des arrays unbestimmter Länge)\n",
    "\n",
    "# idealer Frequenzgang:\n",
    "Hsoll = 0\n",
    "w_rad = np.linspace(-np.pi*fs_Hz, np.pi*fs_Hz, fs_Hz) # omega, linear und äquidistant aus [0, fs_Hz]\n",
    "for i in range(-1, 2):\n",
    "    H = np.where((w_rad <= i*2*np.pi*fs_Hz + 3*wc_rad) & (w_rad >= i*2*np.pi*fs_Hz + wc_rad), A, 0)\n",
    "    Hsoll += H\n",
    "    \n",
    "# Endliche Impulsantwort (reell) mit der IDTFT berechnen:\n",
    "k = np.arange(-fs_Hz//2, fs_Hz//2)\n",
    "# Über alle Sample-Zeitpunkte in k iterieren und numerisch integrieren (Annäherung an das Integral der IDTFT):\n",
    "for i in k:\n",
    "    an, err = integrate.quad(lambda w_rad:A*np.cos(i*w_rad/fs_Hz), wc_rad, 3*wc_rad, limit=fs_Hz)\n",
    "    h.append(an / (2*np.pi*fs_Hz))\n",
    "\n",
    "# Realer Frequenzgang mittels FFT zum Vergleich mit dem idealen Frequenzgang:\n",
    "Hist = np.fft.fftshift(np.abs(fftpack.fft(h)))\n",
    "    \n",
    "# Plot\n",
    "plt.subplot(311)\n",
    "plt.title('Idealer Frequenzgang über die spektralen Grundperiode [-$\\omega_s$, $\\omega_s$]')\n",
    "plt.xlabel('Frequenz ω') \n",
    "plt.ylabel('Amplitude |H(e^jω)|') \n",
    "plt.plot(w_rad, Hsoll)\n",
    "\n",
    "plt.subplot(312)\n",
    "plt.title('Impulsantwort') \n",
    "plt.xlabel('Abtastwertindex k') \n",
    "plt.ylabel('Amplitude h(k)') \n",
    "plt.xlim(-200, 200)  \n",
    "plt.stem(k, h, use_line_collection=True)\n",
    "\n",
    "plt.subplot(313)\n",
    "plt.title('reale Spektrale von Impulsantwort')\n",
    "plt.xlabel('Frequenz ω') \n",
    "plt.ylabel('Amplitude $|H(e^{jω})|$') \n",
    "plt.plot(w_rad, Hist)\n",
    "\n",
    "plt.gcf().set_size_inches(10, 15)\n",
    "plt.show()"
   ]
  },
  {
   "cell_type": "markdown",
   "metadata": {},
   "source": [
    "Nun können Sie die beschränkte Impulsantwort mit Rechteckfenster auf L Abtastwerte berechnen: "
   ]
  },
  {
   "cell_type": "code",
   "execution_count": null,
   "metadata": {},
   "outputs": [],
   "source": [
    "'''\n",
    "Aufgabe: Beschränkte Impulsantwort mit verschiedenen Fensterlängen L = 10, 20, 50, 200 berechnen\n",
    "(Hinweis: Sie können die berechnete Impulsantwort aus dem vorherigen Beispiel direkt nutzen.\n",
    " Probieren Sie auch aus, was passiert, wenn die Impulsantwort nicht symmetrisch um k = 0 gefenstert wird.)\n",
    "'''\n",
    "\n",
    "for L in (10, 20, 50, 100):\n",
    "    # Fensterung mit einem Rechteckfenster (auf Wertebereich der Länge +-L beschränken):\n",
    "    hw = np.where((k<=(L//2)) & (k>=(-L//2)), h, 0)\n",
    "    # Spectralen mittels FFT \n",
    "    Hw = np.fft.fftshift(np.abs(fftpack.fft(hw)))\n",
    "    \n",
    "    # TODO: In der Übung berechnete Impulsantwort h(k) darüber plotten\n",
    "\n",
    "    plt.subplot(121)\n",
    "    plt.title('Impulsantwort mit Fensterlänge L=%d' %L)\n",
    "    plt.xlabel('Abtastwertindex k') \n",
    "    plt.ylabel('Amplitude h(k)') \n",
    "    plt.xlim(fs_Hz//2-L, fs_Hz//2+L)\n",
    "    plt.xticks(np.arange(fs_Hz//2-L, fs_Hz//2+L+1, L//5), range(-L, L+1, L//5))\n",
    "    plt.stem(hw, use_line_collection=True) \n",
    "\n",
    "    plt.subplot(122)\n",
    "    plt.title('Resultierender Frequenzgang für L=%d' %L)\n",
    "    plt.xlabel('Frequenz ω') \n",
    "    plt.ylabel('Amplitude |H(e^jω)|') \n",
    "    plt.plot(k, Hw)\n",
    "\n",
    "    plt.gcf().set_size_inches(16, 4)\n",
    "    plt.show()"
   ]
  },
  {
   "cell_type": "markdown",
   "metadata": {},
   "source": [
    "----"
   ]
  },
  {
   "cell_type": "markdown",
   "metadata": {},
   "source": [
    "<a id='idft'></a><div><img src=\"img/IMG-idft.png\" style=\"float:left\"><h2 style=\"position: relative; top: 6px; left: 6px\">3. Inverse DFT </h2></div>"
   ]
  },
  {
   "cell_type": "markdown",
   "metadata": {},
   "source": [
    "Für die IDTFT muss ein Integral über die (logischerweise kontinuierliche) Variable $\\Omega$ ausgewertet werden. Die IDFT eignet sich für digitale Computer hier deutlich besser, da sie mit diskreten Abtastwerten arbeitet."
   ]
  },
  {
   "cell_type": "markdown",
   "metadata": {},
   "source": [
    "Im Folgenden soll daher dasselbe Vorgehen mit der IDFT anstatt der IDTFT durchgeführt werden. Die IDFT ist definiert durch\n",
    "\\begin{equation*}\n",
    "h(k)=\\sum_{n=0}^{N-1}H(n)e^{j2\\pi kn/N},\n",
    "\\end{equation*}  \n",
    "und ergibt sich direkt aus der IDTFT, wenn $\\omega$ mit $N$ Punkten diskretisiert wird, d.h. $\\Delta\\omega = 2\\pi f_s/N$. Das kontinuierliche Spektrum aus der IDTFT wird dann mit $2\\pi f_s \\cdot n / N$ abgetastet.\n",
    "Für die DFT und ihre inverse IDFT gibt es im SciPy-Paket die fertigen Objekte [`fftpack.fft()`](https://docs.scipy.org/doc/scipy/reference/generated/scipy.fftpack.fft.html) und [`fftpack.ifft()`](https://docs.scipy.org/doc/scipy/reference/generated/scipy.fftpack.ifft.html), wobei immer die FFT verwendet wird (generell wird in der Praxis für die Berechnung der DTF ausschließlich die FFT verwendet. Falls die Anzahl an Abtastwerten keine Zweierpotenz ist, wird das Signal bis zur nächsthöheren Zweierpotenz mit Nullen aufgefüllt).  \n",
    "Um die Gleichung der IDFT besser zu veranschaulichen, wird im Folgenden trotzdem einmal ein Tiefpassfilter mit einer selbst definierten IDFT nach der obrigen Gleichung entworfen.   "
   ]
  },
  {
   "cell_type": "markdown",
   "metadata": {},
   "source": [
    "-- Baustelle von Arne (mache ich Montag):\n",
    "\n",
    "!!! Beschreibung einer eigenen Funktionsdefinition !!!\n",
    "\n",
    "-- Ende: Baustelle von Arne (mache ich Montag)"
   ]
  },
  {
   "cell_type": "code",
   "execution_count": null,
   "metadata": {},
   "outputs": [],
   "source": [
    "'''\n",
    "Funktion definieren: idft(func, N)\n",
    "Impulsantwort mit IDFT, Verschiebung und Fensterung\n",
    "    \n",
    "    param func: Funktion für Impulsantwort\n",
    "    param N: Sample Zahl\n",
    "''' \n",
    "\n",
    "# IDFT\n",
    "def idft(func, N):   \n",
    "    h = [] \n",
    "    k = np.arange(N)\n",
    "    for i in range(N): \n",
    "        an = np.sum(func * np.exp(1j*2*np.pi*k*i/N))\n",
    "        h.append(an)     \n",
    "    # Verschiebung\n",
    "    h = np.real(h[N//2:] + h[:N//2])\n",
    "    # Normalisierung\n",
    "    h = h / (2*np.max(h))\n",
    "    return h"
   ]
  },
  {
   "cell_type": "code",
   "execution_count": null,
   "metadata": {},
   "outputs": [],
   "source": [
    "'''\n",
    "Beispiel: Endliche Impulsantwort eines Tiefpassfilters mittels inverser DFT\n",
    "'''\n",
    "\n",
    "# Initialisierung\n",
    "N = 512  # Sample Zahl\n",
    "A = 1  # Amplitude \n",
    "\n",
    "# Spectrale der Übertragungsfunktion\n",
    "H_soll = 0\n",
    "n = np.linspace(-np.pi, np.pi, N)\n",
    "for i in range(-2, 2):\n",
    "    H = np.where((n <= i*2*np.pi + np.pi/2) & (n >= i*2*np.pi - np.pi/2), A, 0)\n",
    "    H_soll += H \n",
    "\n",
    "# Impulsantwort\n",
    "h = idft(H_soll, N)\n",
    "\n",
    "# plot  \n",
    "plt.subplot(121)\n",
    "plt.title('ideale Spektrale in der Grundperiode')\n",
    "plt.xlabel('Frequenz ω') \n",
    "plt.ylabel('Amplitude |H(n)|') \n",
    "plt.plot(n, H_soll)\n",
    "\n",
    "plt.subplot(122)\n",
    "plt.title('Impulsantwort') \n",
    "plt.xlabel('Sample Nummer k') \n",
    "plt.ylabel('Amplitude h(k)') \n",
    "plt.xlim(150, 360)\n",
    "plt.stem(np.real(h), use_line_collection=True)\n",
    "plt.gcf().set_size_inches(15, 5)\n",
    "plt.show()"
   ]
  },
  {
   "cell_type": "code",
   "execution_count": null,
   "metadata": {},
   "outputs": [],
   "source": [
    "# Fensterung mit verschiedene Länge\n",
    "for L in (10, 20, 50, 100):\n",
    "    wd = signal.get_window('boxcar', L)\n",
    "    mask = np.zeros(N)\n",
    "    mask[(N-L)//2:(N+L)//2] = wd      \n",
    "    h_ist = h * mask\n",
    "    # Spectrale mittels fft \n",
    "    H_ist = np.abs(fftpack.fft(h_ist))\n",
    "    \n",
    "    # Plot\n",
    "    plt.subplot(121)\n",
    "    plt.title('Impulsantwort mit Fensterlänge L=%d' %L)\n",
    "    plt.xlabel('Sample Nummer k') \n",
    "    plt.ylabel('Amplitude h(k)') \n",
    "    plt.xlim(N//2-L, N//2+L)\n",
    "    plt.xticks(np.arange(N//2-L, N//2+L+1, L//5), range(-L, L+1, L//5))\n",
    "    plt.stem(np.real(h_ist), use_line_collection=True)\n",
    "    plt.plot(mask, ls=':', c='r')\n",
    "    \n",
    "    plt.subplot(122)\n",
    "    plt.title('reale Spektrale von Impulsantwort')\n",
    "    plt.xlabel('Frequenz ω') \n",
    "    plt.ylabel('Amplitude |H(n)|') \n",
    "    plt.plot(n, H_ist)\n",
    "    \n",
    "    plt.gcf().set_size_inches(15, 5)\n",
    "    plt.show()"
   ]
  },
  {
   "cell_type": "code",
   "execution_count": null,
   "metadata": {},
   "outputs": [],
   "source": [
    "'''\n",
    "Aufgabe: Endliche Impulsantwort eines Tiefpassfilters mittels ifft\n",
    "'''\n",
    "\n",
    "# Initialisierung\n",
    "N = 512  # Sample Zahl\n",
    "A = 1  # Amplitude \n",
    "\n",
    "# Spectrale der Übertragungsfunktion\n",
    "H_soll = 0\n",
    "n = np.linspace(-np.pi, np.pi, N)\n",
    "for i in range(-2, 2):\n",
    "    H = np.where((n <= i*2*np.pi + np.pi/2) & (n >= i*2*np.pi - np.pi/2), A, 0)\n",
    "    H_soll += H \n",
    "    \n",
    "# Inpulsantwort mittels ifft, ifftshift \n",
    "h = np.fft.ifftshift(fftpack.ifft(H_soll, N))   \n",
    "\n",
    "# plot  \n",
    "plt.subplot(121)\n",
    "plt.title('ideale Spektrale in der Grundperiode')\n",
    "plt.xlabel('Frequenz ω') \n",
    "plt.ylabel('Amplitude |H(n)|') \n",
    "plt.plot(n, H_soll)\n",
    "\n",
    "plt.subplot(122)\n",
    "plt.title('Impulsantwort') \n",
    "plt.xlabel('Sample Nummer k') \n",
    "plt.ylabel('Amplitude h(k)') \n",
    "plt.xlim(150, 350)\n",
    "plt.stem(np.real(h), use_line_collection=True)\n",
    "\n",
    "plt.gcf().set_size_inches(15, 5)\n",
    "plt.show()"
   ]
  },
  {
   "cell_type": "code",
   "execution_count": null,
   "metadata": {},
   "outputs": [],
   "source": [
    "# mit verschiedenen Fenstern\n",
    "L = 50\n",
    "for wd in ('boxcar', 'triangle', 'blackman', 'hanning'):\n",
    "    mask = np.zeros(N)\n",
    "    mask[(N-L)//2:(N+L)//2] = signal.get_window(wd, L)      \n",
    "    h_ist = h * mask\n",
    "    # Spectrale mittels fft \n",
    "    H_ist = np.abs(fftpack.fft(h_ist))\n",
    "    \n",
    "    # Plot\n",
    "    plt.subplot(121)\n",
    "    plt.title('Impulsantwort durch %s-Fenster' %wd) \n",
    "    plt.xlabel('Sample Nummer k') \n",
    "    plt.ylabel('Amplitude h(k)') \n",
    "    plt.xlim(150, 350)\n",
    "    plt.stem(np.real(h_ist), use_line_collection=True)\n",
    "    plt.plot(mask, ls='--', c='r')\n",
    "    \n",
    "    plt.subplot(122)\n",
    "    plt.title('reale Spektrale von Impulsantwort')\n",
    "    plt.xlabel('Frequenz ω') \n",
    "    plt.ylabel('Amplitude |H(n)|') \n",
    "    plt.plot(n, H_ist)\n",
    "    \n",
    "    plt.gcf().set_size_inches(15, 5)\n",
    "    plt.show()"
   ]
  },
  {
   "cell_type": "markdown",
   "metadata": {},
   "source": [
    "----"
   ]
  },
  {
   "cell_type": "markdown",
   "metadata": {},
   "source": [
    "### References\n",
    "\n",
    "1. Titelbild von [Lucas Vieira](https://en.wikipedia.org/wiki/Prism#/media/File:Light_dispersion_conceptual_waves.gif)  \n",
    "2. DSP Guide: [The Scientist and Engineer's Guide to\n",
    "Digital Signal Processing](http://www.dspguide.com/pdfbook.htm)\n",
    "3. http://fourier.eng.hmc.edu/e101/lectures/Fourier_Transform_C/node1.html\n",
    "4. TODO: ADD DFTF-DFT SOURCE"
   ]
  }
 ],
 "metadata": {
  "kernelspec": {
   "display_name": "Python 3",
   "language": "python",
   "name": "python3"
  },
  "language_info": {
   "codemirror_mode": {
    "name": "ipython",
    "version": 3
   },
   "file_extension": ".py",
   "mimetype": "text/x-python",
   "name": "python",
   "nbconvert_exporter": "python",
   "pygments_lexer": "ipython3",
   "version": "3.9.0"
  }
 },
 "nbformat": 4,
 "nbformat_minor": 4
}
