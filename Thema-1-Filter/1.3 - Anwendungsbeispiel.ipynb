{
 "cells": [
  {
   "cell_type": "markdown",
   "metadata": {},
   "source": [
    "# 1.3 -  Anwendungsbeispiel"
   ]
  },
  {
   "cell_type": "markdown",
   "metadata": {},
   "source": [
    "<img style=\"float: right; margin:5px 0px 0px 10px\" src=\"img/audio.jpg\" width=\"400\">\n",
    "\n",
    "\n",
    "## Inhalt  \n",
    "\n",
    "<table style=\"width:256px; border: 1px solid black; display: inline-block\">\n",
    "  <tr>\n",
    "    <td  style=\"text-align:right\" width=64px><img src=\"img/IMG-Python.png\" style=\"float:left\"></td>\n",
    "      <td style=\"text-align:left\" width=256px>\n",
    "          <a style=\"color:black; font-size:14px; font-weight:bold; text-decoration:none\" href='#intro'>1. Audiosignale in Python</a>\n",
    "    </td>\n",
    "  </tr>  \n",
    "    <tr>\n",
    "    <td  style=\"text-align:right\" width=64px><img src=\"img/IMG-fir.jpg\" style=\"float:left\"></td>\n",
    "      <td style=\"text-align:left\" width=256px>\n",
    "          <a style=\"color:black; font-size:14px; font-weight:bold; text-decoration:none\" href='#fir'>2. FIR-Filterung</a>\n",
    "    </td>\n",
    "  </tr>  \n",
    "    <tr>\n",
    "    <td  style=\"text-align:right\" width=64px><img src=\"img/IMG-iir.jpg\" style=\"float:left\"></td>\n",
    "      <td style=\"text-align:left\" width=256px>\n",
    "          <a style=\"color:black; font-size:14px; font-weight:bold; text-decoration:none\" href='#iir'>3. IIR-Filterung</a>\n",
    "    </td>\n",
    "  </tr>\n",
    "</table>\n",
    "\n"
   ]
  },
  {
   "cell_type": "markdown",
   "metadata": {},
   "source": [
    "---- "
   ]
  },
  {
   "cell_type": "markdown",
   "metadata": {},
   "source": [
    "    "
   ]
  },
  {
   "cell_type": "markdown",
   "metadata": {},
   "source": [
    "Der Zweck eines Filters besteht darin, ein Eingangssignal durch eine bestimmte Operation in ein Ausgangssignal umzuwandeln, nämlich Filterung. Es gibt zwei Möglichkeiten einen digitalen Filter zu implementieren: \n",
    "- Softwareprogrammierung  \n",
    "- Spezielle Hardware oder allgemeiner digitaler Signalprozessor (DSP)  \n",
    "\n",
    "Für den Filterentwurf wirken sich unterschiedliche Strukturen auf die Berechnungskomplexität, den Berechnungsfehler und die Stabilität usw. aus. Daher sollte die Filterleistung für bestimmte Anwendungen angemessen berücksichtigt werden, um die Implementierung zu vereinfachen.   \n",
    "\n",
    "In Bezug auf die Leistung umfasst die IIR-Filterübertragungsfunktion zwei Sätze einstellbarer Faktoren: Null- und Polstellen. Die einzige Einschränkung für die Polstellen sind, dass alle im Einheitskreis liegen müssen. Im Vergleich zu FIR-Filtern können meist niedrigere Ordnungen verwendet werden, um dieselbe Selektivität zu erhalten, was zu einer kleineren Anzahl an Speichereinheiten und ein geringerer Rechenaufwand, was insgesamt die Effizienz erhöht. Dieser höhere Wirkungsgrad geht jedoch zu Lasten der Nichtlinearität der Phase. Je besser die Selektivität ist, desto schwerwiegender ist die Nichtlinearität der Phase. Der Pol der FIR-Filterübertragungsfunktion ist am Ursprung fixiert und kann seine Leistung nur durch Änderung der Nullposition ändern. Um eine hohe Selektivität zu erreichen, muss daher eine höhere Ordnung verwendet werden. Für denselben Filterdesignindex kann die erforderliche Ordnung des FIR-Filters vielmal höher sein als die des IIR-Filters, so dass die Kosten höher und die Signalverzögerung ist auch größer.\n",
    "\n",
    "In diesem Notebook werden bestimmte Frequenzkomponenten eines Eingangssignals durch verschiedene Filter entfernt, um die Eigenschaften zu vergleichen. Genauer gesagt, wir werden Bandsperrfilter zum Entfernen mit unterschiedlichen Methoden implementieren und die Ergebnisse vergleichen. Die originalen Daten des Audiosignals (akustik.wav) finden Sie unter dem Ordner 'data'."
   ]
  },
  {
   "cell_type": "markdown",
   "metadata": {},
   "source": [
    "<a id='intro'></a><div><img src=\"img/IMG-Python.png\" style=\"float:left\"><h2 style=\"position: relative; top: 6px; left: 6px\">1. Audiosignale in Python</h2></div>"
   ]
  },
  {
   "cell_type": "markdown",
   "metadata": {},
   "source": [
    "#### 1.1 Import von Audiodateien"
   ]
  },
  {
   "cell_type": "markdown",
   "metadata": {},
   "source": [
    "Um Audiodateien zu bearbeiten, müssen wir sie zuerst in das Projekt einlesen. Dazu gibt es mehrere Methoden, von denen drei als Beispiele nun aufgeführt sind:"
   ]
  },
  {
   "cell_type": "markdown",
   "metadata": {},
   "source": [
    "```python\n",
    "path = 'data/akustik.wav'\n",
    "\n",
    "# 1. wavfile:\n",
    "from scipy.io import wavfile\n",
    "sr, audio = wavfile.read(path)\n",
    "\n",
    "# 2. wave:\n",
    "import wave\n",
    "wf = wave.open(path,'rb')\n",
    "audio = wf.readframes(1024)\n",
    "\n",
    "# 3. librosa:\n",
    "import librosa\n",
    "audio, sr = librosa.load(path)\n",
    "```"
   ]
  },
  {
   "cell_type": "markdown",
   "metadata": {},
   "source": [
    "In diesem Notebook verwenden wir die erste Option [`wavfile()`](https://docs.scipy.org/doc/scipy/reference/io.html?highlight=wavfile#module-scipy.io.wavfile), da es schon in dem Modul `scipy` integriert ist und somit installiert ist. Schauen Sie sich nun die Audioaufnahme `data/akustik.wav` im Zeit- und Frequenzbereich an. Importieren Sie dafür zuerst die dafür notwendigen Module:"
   ]
  },
  {
   "cell_type": "code",
   "execution_count": null,
   "metadata": {},
   "outputs": [],
   "source": [
    "# Importieren Sie aus scipy die Teilbibliothek \"fftpack\" \n",
    "# Importieren Sie aus  scipy.io die Teilbibliothek \"wavfile\"\n",
    "# Importieren Sie aus matplotlib die Teilbibliothek \"pyplot\" mit dem Alias \"plt\"\n",
    "# Importieren Sie das numpy-Modul mit dem Alias \"np\"\n",
    "\n",
    "[..]\n",
    "[..]\n",
    "[..]\n",
    "[..]"
   ]
  },
  {
   "cell_type": "code",
   "execution_count": null,
   "metadata": {},
   "outputs": [],
   "source": [
    "# Lösung\n",
    "# Importieren Sie aus scipy die Teilbibliothek \"fftpack\"\n",
    "# Importieren Sie aus  scipy.io die Teilbibliothek \"wavfile\"\n",
    "# Importieren Sie aus matplotlib die Teilbibliothek \"pyplot\" mit dem Alias \"plt\"\n",
    "# Importieren Sie das numpy-Modul mit dem Alias \"np\"\n",
    "\n",
    "import numpy as np\n",
    "import matplotlib.pyplot as plt\n",
    "from scipy import fftpack\n",
    "from scipy.io import wavfile"
   ]
  },
  {
   "cell_type": "code",
   "execution_count": null,
   "metadata": {},
   "outputs": [],
   "source": [
    "'''\n",
    "Beispiel: Audiodatei einlesen und visualisieren\n",
    "'''\n",
    "\n",
    "# Datei einlesen \n",
    "sr, audio = [..]  # ToDo: Lesen Sie Sample Rate und das Audiosignal ein \n",
    "audio = audio/np.max(np.abs(audio))   # Normalisierung des Signals\n",
    "\n",
    "# Initiale Daten\n",
    "fs_Hz = sr  # Abtrastfrequenz\n",
    "L = len(audio)  # Länge des Audiosignals\n",
    "T = L/fs_Hz - 1/fs_Hz  # Zeit\n",
    "t = np.linspace(0, T, L)  # Zeitbereich\n",
    "f_Hz = np.linspace(0, fs_Hz/2, int(L/2))  # Frequenzbereich\n",
    "\n",
    "# Spectrale\n",
    "audio_fft = [..]   # ToDo: Führen Sie eine FFT des Audiosignals durch\n",
    "\n",
    "\n",
    "# plot\n",
    "plt.subplot(121)\n",
    "plt.title('Audiosignal im Zeitbereich')\n",
    "plt.xlabel('Zeit [s]') \n",
    "plt.ylabel('Amplitude') \n",
    "plt.plot(t, audio)\n",
    "\n",
    "plt.subplot(122)\n",
    "plt.title('Audiosignal im Frequenzbereich')\n",
    "plt.xlabel('Frequenz [rad]') \n",
    "plt.ylabel('Amplitude') \n",
    "plt.ylim(0, 200)\n",
    "plt.plot(f_Hz, np.abs(audio_fft[:int(L/2)]))\n",
    "\n",
    "plt.gcf().set_size_inches(15, 5)\n",
    "plt.show()"
   ]
  },
  {
   "cell_type": "code",
   "execution_count": null,
   "metadata": {},
   "outputs": [],
   "source": [
    "\n",
    "'''\n",
    "Beispiel: Audiodatei einlesen und visualisieren\n",
    "'''\n",
    "\n",
    "# Datei einlesen \n",
    "sr, audio = wavfile.read('data/akustik.wav')  # Sample Rate, Audiosignal im Array-Form\n",
    "audio = audio/np.max(np.abs(audio))   # Normalisierung\n",
    "\n",
    "# Initiale Daten\n",
    "fs_Hz = sr  # Abtrastfrequenz\n",
    "L = len(audio)  # Länge des Audiosignals\n",
    "T = L/fs_Hz - 1/fs_Hz  # Zeit\n",
    "t = np.linspace(0, T, L)  # Zeitbereich\n",
    "f_Hz = np.linspace(0, fs_Hz/2, int(L/2))  # Frequenzbereich\n",
    "\n",
    "# Spectrale\n",
    "audio_fft = fftpack.fft(audio)\n",
    "\n",
    "# plot\n",
    "plt.subplot(121)\n",
    "plt.title('Audiosignal im Zeitbereich')\n",
    "plt.xlabel('Zeit [s]') \n",
    "plt.ylabel('Amplitude') \n",
    "plt.plot(t, audio)\n",
    "plt.subplot(122)\n",
    "plt.title('Audiosignal im Frequenzbereich')\n",
    "plt.xlabel('Frequenz [rad]') \n",
    "plt.ylabel('Amplitude') \n",
    "plt.ylim(0, 200)\n",
    "plt.plot(f_Hz, np.abs(audio_fft[:int(L/2)]))\n",
    "plt.gcf().set_size_inches(15, 5)\n",
    "plt.show()"
   ]
  },
  {
   "cell_type": "markdown",
   "metadata": {},
   "source": [
    "    "
   ]
  },
  {
   "cell_type": "markdown",
   "metadata": {},
   "source": [
    "#### 1.2 Abspielen von Audio\n",
    "\n",
    "Die Ausgabe von Audiosignalen kann in Python auch mit unterschiedlichen externen Modulen realisiert werden. Falls Sie das Modul nicht installiert haben, können Sie dies via `pip install \"module\"` durchführen. Hier werden Ihnen drei mögliche Module mit Ihren individuellen Vorzügen vorgestellt:  "
   ]
  },
  {
   "cell_type": "markdown",
   "metadata": {},
   "source": [
    "- [`playsound`](https://pypi.org/project/playsound/)   \n",
    "Das PlaySound-Modul ist ein plattformübergreifendes Modul, das Audiodateien abspielen kann."
   ]
  },
  {
   "cell_type": "code",
   "execution_count": null,
   "metadata": {},
   "outputs": [],
   "source": [
    "from playsound import playsound"
   ]
  },
  {
   "cell_type": "code",
   "execution_count": null,
   "metadata": {},
   "outputs": [],
   "source": [
    "playsound('data/akustik.wav')"
   ]
  },
  {
   "cell_type": "markdown",
   "metadata": {},
   "source": [
    "- [`IPython.display`](https://ipython.org/ipython-doc/dev/api/generated/IPython.display.html)  \n",
    "Mit diesem Modul wird die Audiodatei mit einem Audioplayer geöffnet, wodurch sich "
   ]
  },
  {
   "cell_type": "code",
   "execution_count": null,
   "metadata": {},
   "outputs": [],
   "source": [
    "import IPython.display as ipd"
   ]
  },
  {
   "cell_type": "code",
   "execution_count": null,
   "metadata": {},
   "outputs": [],
   "source": [
    "ipd.Audio('data/akustik.wav')"
   ]
  },
  {
   "cell_type": "markdown",
   "metadata": {},
   "source": [
    "- [`simpleaudio`](https://simpleaudio.readthedocs.io/en/latest/)  \n",
    "Das Modul ermöglicht es, sowohl wav-Dateien als auch NumPy-Arrays abgespielt zu können. Diese Eigenschaft ist für dieses Notebook sehr nützlich, weshalb im Weiteren auf `simpleaudio` zurückgegriffen wird."
   ]
  },
  {
   "cell_type": "code",
   "execution_count": null,
   "metadata": {},
   "outputs": [],
   "source": [
    "import simpleaudio as sa"
   ]
  },
  {
   "cell_type": "code",
   "execution_count": null,
   "metadata": {},
   "outputs": [],
   "source": [
    "# Beispiel: wav-Dateien abspielen\n",
    "\n",
    "# Datei einlesen\n",
    "wave_obj = sa.WaveObject.from_wave_file('data/akustik.wav')\n",
    "\n",
    "# abspielen\n",
    "play_obj = wave_obj.play()\n",
    "play_obj.wait_done()"
   ]
  },
  {
   "cell_type": "code",
   "execution_count": null,
   "metadata": {},
   "outputs": [],
   "source": [
    "# Beispiel: NumPy-Arrays (Audiosignal) abspielen\n",
    "\n",
    "# Datei ablesen \n",
    "sr, audio = wavfile.read('data/akustik.wav')\n",
    "\n",
    "# abspielen\n",
    "play_obj = sa.play_buffer(audio, 1, 2, sr)\n",
    "play_obj.wait_done()"
   ]
  },
  {
   "cell_type": "code",
   "execution_count": null,
   "metadata": {},
   "outputs": [],
   "source": [
    "# Beispiel: NumPy-Arrays (Sinussignal) abspielen\n",
    "\n",
    "# Sinussignal erzeugen\n",
    "t = np.linspace(0, 3, 8000)\n",
    "sine = np.sin(440 * np.pi * t)\n",
    "\n",
    "# Werte im 16-Bit-Bereich konvertieren\n",
    "sound = sine * (2**15 - 1) / np.max(sine)\n",
    "sound = sound.astype(np.int16)\n",
    "\n",
    "# abspielen\n",
    "play_obj = sa.play_buffer(sound, 1, 2, 8000)\n",
    "play_obj.wait_done()"
   ]
  },
  {
   "cell_type": "markdown",
   "metadata": {},
   "source": [
    "    "
   ]
  },
  {
   "cell_type": "markdown",
   "metadata": {},
   "source": [
    "#### 1.3 Signale bearbeiten / Störsignal erstellen"
   ]
  },
  {
   "cell_type": "markdown",
   "metadata": {},
   "source": [
    "Wenn das Audiosignal als numpy-Array vorliegt, kann das Signal sehr leicht bearbeitet werden. Zuerst soll dafür auf die Audiodatei `akustik.wav` ein Sinus mit der Frequenz von 440 Hz addiert werden. Dadurch erhält die Audiodatei ein Störsignal, welches Sie danach wieder davon zu entfernen versuchen."
   ]
  },
  {
   "cell_type": "code",
   "execution_count": null,
   "metadata": {},
   "outputs": [],
   "source": [
    "# Lösung\n",
    "# Importieren Sie aus scipy die Teilbibliothek \"signal\" \n",
    "[..]"
   ]
  },
  {
   "cell_type": "code",
   "execution_count": null,
   "metadata": {},
   "outputs": [],
   "source": [
    "# Importieren Sie aus scipy die Teilbibliothek \"signal\" \n",
    "from scipy import signal"
   ]
  },
  {
   "cell_type": "code",
   "execution_count": null,
   "metadata": {},
   "outputs": [],
   "source": [
    "'''\n",
    "Beispiel: Signal addieren, visualisieren und abspielen\n",
    "'''\n",
    "\n",
    "# Datei einlesen (originales Audiosignal)\n",
    "[..]   # ToDo: lesen sie die Audiodatei \"akustik.wav\" mit dem Objekt wavfile.read() ein\n",
    "[..]   # ToDo: Normalisieren Sie das numpy-Array\n",
    "\n",
    "# Initialisierung der Variablen\n",
    "fs_Hz = [..]     # ToDo: Bestimmen Sie die Abtastfrequenz\n",
    "fsin_Hz = [..]   # ToDo: Bestimmen Sie die Sinusfrequenz\n",
    "L = [..]         # ToDo: Bestimmen Sie die Länge des Audio-Arrays\n",
    "T = [..]         # ToDo: Bestimmen Sie die Zeitdauer der Aufnahme\n",
    "t = [..]         # ToDo: Erzeugen Sie das zeitliche Array (nutzen Sie dafür np.linspace())\n",
    "f_Hz = [..]      # ToDo: Erzeugen Sie das Array für den Frequenzbereich (nutzen Sie dafür np.linspace())\n",
    "\n",
    "# Sinussignale erstellen\n",
    "sine = [..]      # ToDo: Erzeugen Sie das Sinussignal mit einer Frequenz von 440 Hz im Zeitbereich\n",
    "sine_fft = [..]  # ToDo: Berechnen Sie mittels FFT den Frequenzbereich des Signals\n",
    "\n",
    "# Graphische Darstellung\n",
    "plt.subplot(211)\n",
    "plt.title('Störsignal im Zeitbereich')\n",
    "plt.xlabel('Zeit [s]') \n",
    "plt.xlim(0, 0.1)\n",
    "plt.ylabel('Amplitude') \n",
    "plt.ylim(-1, 1)\n",
    "plt.plot(t, sine)\n",
    "\n",
    "plt.subplot(222)\n",
    "plt.title('Störsignal im Frequenzbereich')\n",
    "plt.xlabel('Frequenz [rad]') \n",
    "plt.ylabel('Amplitude') \n",
    "plt.ylim(0, 500)\n",
    "plt.plot(f_Hz, np.abs(sine_fft[:int(L/2)]))\n",
    "\n",
    "plt.gcf().set_size_inches(15, 5)\n",
    "plt.show()"
   ]
  },
  {
   "cell_type": "code",
   "execution_count": null,
   "metadata": {},
   "outputs": [],
   "source": [
    "# Signal zur Filterung\n",
    "s = [..]         # ToDo: Addieren Sie das Audiosignal mit dem Sinussignal (im Zeitbereich)\n",
    "S = [..]         # ToDo: Berechnen Sie mittels FFT den Frequenzbereich des Signals mit Störung\n",
    "\n",
    "# ToDo: Abspielen des erzeugten Signals\n",
    "\n",
    "\n",
    "# Fensterung (optional)\n",
    "# ToDo: Erzeugen Sie ein Hanning-Fenster der Länge \"L\" mit signal.get_window()\n",
    "# ToDo: Wenden Sie das Fenster auf das Signal \"s\" an.\n",
    "\n",
    "plt.subplot(211)\n",
    "plt.title('Audiosignal mit Störung im Zeitbereich')\n",
    "plt.xlabel('Zeit [s]') \n",
    "plt.ylabel('Amplitude') \n",
    "plt.plot(t, s)\n",
    "\n",
    "plt.subplot(222)\n",
    "plt.title('Audiosignal mit Störung im Frequenzbereich')\n",
    "plt.xlabel('Frequenz [rad]') \n",
    "plt.ylabel('Amplitude') \n",
    "plt.ylim(0, 500)\n",
    "plt.plot(f_Hz, np.abs(S[:int(L/2)]))\n",
    "\n",
    "plt.gcf().set_size_inches(15, 5)\n",
    "plt.show()\n"
   ]
  },
  {
   "cell_type": "code",
   "execution_count": null,
   "metadata": {},
   "outputs": [],
   "source": [
    "# Lösung\n",
    "'''\n",
    "Beispiel: Signal addieren, visualisieren und abspielen\n",
    "'''\n",
    "\n",
    "# Datei ablesen (originales Audiosignal)\n",
    "sr, audio = wavfile.read('data/akustik.wav')\n",
    "audio = audio/np.max(np.abs(audio)) \n",
    "\n",
    "# Initiale Daten\n",
    "fs_Hz = sr  # Abtrastfrequenz\n",
    "fsin_Hz = 440  # Sinusfrequenz\n",
    "L = len(audio)  # Länge des Audiosignals\n",
    "T = L/fs_Hz - 1/fs_Hz  # Zeitraum\n",
    "t = np.linspace(0, T, L)  # Zeitbereich\n",
    "f_Hz = np.linspace(0, fs_Hz/2, int(L/2))  # Frequenzbereich\n",
    "\n",
    "# Sinussignale erstellen\n",
    "sine = 1/2 * np.sin(fsin_Hz * 2*np.pi * t)\n",
    "sine_fft = fftpack.fft(sine)\n",
    "\n",
    "# Signal zur Filterung\n",
    "s = audio + sine  # Additives Signal\n",
    "S = fftpack.fft(s)  # Frequenzgang\n",
    "\n",
    "# Fensterung (optional)\n",
    "wd = signal.get_window('hanning', L)\n",
    "s_windowed = s * wd\n",
    "\n",
    "# plot\n",
    "plt.subplot(221)\n",
    "plt.title('Störsignal im Zeitbereich')\n",
    "plt.xlabel('Zeit [s]') \n",
    "plt.xlim(0, 0.1)\n",
    "plt.ylabel('Amplitude') \n",
    "plt.ylim(-1, 1)\n",
    "plt.plot(t, sine)\n",
    "plt.subplot(222)\n",
    "plt.title('Störsignal im Frequenzbereich')\n",
    "plt.xlabel('Frequenz [rad]') \n",
    "plt.ylabel('Amplitude') \n",
    "plt.ylim(0, 500)\n",
    "plt.plot(f_Hz, np.abs(sine_fft[:int(L/2)]))\n",
    "plt.subplot(223)\n",
    "plt.title('Audiosignal mit Störung im Zeitbereich')\n",
    "plt.xlabel('Zeit [s]') \n",
    "plt.ylabel('Amplitude') \n",
    "plt.plot(t, s)\n",
    "plt.subplot(224)\n",
    "plt.title('Audiosignal mit Störung im Frequenzbereich')\n",
    "plt.xlabel('Frequenz [rad]') \n",
    "plt.ylabel('Amplitude') \n",
    "plt.ylim(0, 500)\n",
    "plt.plot(f_Hz, np.abs(S[:int(L/2)]))\n",
    "plt.gcf().set_size_inches(15, 10)\n",
    "plt.show()\n",
    "\n",
    "\n",
    "# Abspielen\n",
    "sound = (s * (2**15 - 1) / np.max(np.abs(s))).astype(np.int16)\n",
    "play_obj = sa.play_buffer(sound, 1, 2, fs_Hz)\n",
    "play_obj.wait_done()"
   ]
  },
  {
   "cell_type": "markdown",
   "metadata": {},
   "source": [
    "----"
   ]
  },
  {
   "cell_type": "markdown",
   "metadata": {},
   "source": [
    "    "
   ]
  },
  {
   "cell_type": "markdown",
   "metadata": {},
   "source": [
    "<a id='fir'></a><div><img src=\"img/IMG-fir.jpg\" style=\"float:left\"><h2 style=\"position: relative; top: 6px; left: 6px\">2. FIR-Filterung </h2></div>"
   ]
  },
  {
   "cell_type": "markdown",
   "metadata": {},
   "source": [
    "#### 2.1 FIR-Filter mittels IDFT"
   ]
  },
  {
   "cell_type": "markdown",
   "metadata": {},
   "source": [
    "Jetzt entwerfen wir einen Bandsperrfilter mittels IDFT, um das Sinussignal von Audiosignal zu entfernen. Der Filter soll dabei eine Bandbreite von 30 Hz haben."
   ]
  },
  {
   "cell_type": "code",
   "execution_count": null,
   "metadata": {},
   "outputs": [],
   "source": [
    "'''\n",
    "Beispiel: Entfernen von Signalen mittels selbst definierten FIR-Bandsperrfilter\n",
    "'''\n",
    "\n",
    "# Filter\n",
    "bw = 30  # Bandbreite\n",
    "H = [..]         # ToDo: Erzeugen Sie mit np.where einen idealen Bandsperrfilter mit Bandbreite 30 Hz\n",
    "h = [..]         # ToDo: Berechnen Sie die Impulsantwort mittels ifft (ifft-shift nicht vergessen!)\n",
    "\n",
    "# Filterung\n",
    "s_filtered = [..] # ToDo: Falten Sie das gestörte Signal \"s\" (oder \"s_windowed\") mit dem Filter \"h\" \n",
    "S_filtered = [..] # ToDo: Berechnen Sie den Frequenzgang von s_filtered mittels FFT\n",
    "\n",
    "# Plot\n",
    "plt.subplot(221)\n",
    "plt.title('Impulsantwort des Filters')\n",
    "plt.xlabel('Zeit [s]') \n",
    "plt.ylabel('Amplitude') \n",
    "plt.plot(t, np.real(h))\n",
    "plt.subplot(222)\n",
    "plt.title('Spectrale des Bandsperrfilters')\n",
    "plt.xlabel('Frequenz [rad]') \n",
    "#plt.xlim(0, 1000)\n",
    "plt.ylabel('Amplitude') \n",
    "plt.plot(f_Hz, H)\n",
    "plt.subplot(223)\n",
    "plt.title('Audiosignal nach Bandsperrfilterung')\n",
    "plt.xlabel('Zeit [s]') \n",
    "plt.ylabel('Amplitude') \n",
    "plt.plot(t, np.real(s_filtered))\n",
    "plt.subplot(224)\n",
    "plt.title('Frequenzgang nach Filterung')\n",
    "plt.xlabel('Frequenz [rad]') \n",
    "plt.ylabel('Amplitude') \n",
    "plt.ylim(0, 200)\n",
    "plt.plot(f_Hz, np.abs(S_filtered[:int(L/2)]))\n",
    "plt.gcf().set_size_inches(15, 10)\n",
    "plt.show()\n",
    "\n"
   ]
  },
  {
   "cell_type": "code",
   "execution_count": null,
   "metadata": {},
   "outputs": [],
   "source": [
    "# Abspielen des gefilterten Signals\n",
    "sound = [..]    # ToDo: Konvertieren sie das Audiosignal in 16-Bit-Format (INT16) \n",
    "play_obj = [..] # ToDo: Abspielen von sound"
   ]
  },
  {
   "cell_type": "code",
   "execution_count": null,
   "metadata": {},
   "outputs": [],
   "source": [
    "# Lösung\n",
    "\n",
    "'''\n",
    "Beispiel: Entfernen von Signalen mittels selbst definierten FIR-Bandsperrfilters \n",
    "'''\n",
    "\n",
    "# Filter\n",
    "bw = 30  # Bandbreite\n",
    "H = np.where((f_Hz < (fsin_Hz+bw)) & (f_Hz > (fsin_Hz-bw)), 0, 1)  \n",
    "h = np.fft.ifftshift(fftpack.ifft(H, L))   \n",
    "\n",
    "# Filterung\n",
    "s_filtered = signal.convolve(s_windowed, h, 'same')  # Faltung\n",
    "S_filtered = fftpack.fft(s_filtered)\n",
    "\n",
    "# Plot\n",
    "plt.subplot(221)\n",
    "plt.title('Impulsantwort des Filters')\n",
    "plt.xlabel('Zeit [s]') \n",
    "plt.ylabel('Amplitude') \n",
    "plt.plot(t, np.real(h))\n",
    "plt.subplot(222)\n",
    "plt.title('Spectrale des Bandsperrfilters')\n",
    "plt.xlabel('Frequenz [rad]') \n",
    "#plt.xlim(0, 1000)\n",
    "plt.ylabel('Amplitude') \n",
    "plt.plot(f_Hz, H)\n",
    "plt.subplot(223)\n",
    "plt.title('Audiosignal nach Bandsperrfilterung')\n",
    "plt.xlabel('Zeit [s]') \n",
    "plt.ylabel('Amplitude') \n",
    "plt.plot(t, np.real(s_filtered))\n",
    "plt.subplot(224)\n",
    "plt.title('Frequenzgang nach Filterung')\n",
    "plt.xlabel('Frequenz [rad]') \n",
    "plt.ylabel('Amplitude') \n",
    "plt.ylim(0, 200)\n",
    "plt.plot(f_Hz, np.abs(S_filtered[:int(L/2)]))\n",
    "plt.gcf().set_size_inches(15, 10)\n",
    "plt.show()\n",
    "\n",
    "# Abspielen\n",
    "sound = (np.real(s_filtered) * (2**15 - 1) / np.max(np.abs(s_filtered))).astype(np.int16)\n",
    "play_obj = sa.play_buffer(sound, 1, 2, fs_Hz)"
   ]
  },
  {
   "cell_type": "markdown",
   "metadata": {},
   "source": [
    "    "
   ]
  },
  {
   "cell_type": "markdown",
   "metadata": {},
   "source": [
    "#### 2.2 FIR-Filter mittels __firwin()__  \n",
    "Für solche Anwendungen können wir aber auch die vorhandenen Filter wie [`signal.firwin()`](https://docs.scipy.org/doc/scipy/reference/generated/scipy.signal.firwin.html) in __[`scipy.signal`](https://docs.scipy.org/doc/scipy/reference/signal.html)__ direkt benutzen. Das Ergebnis ist ähnlich:"
   ]
  },
  {
   "cell_type": "code",
   "execution_count": null,
   "metadata": {},
   "outputs": [],
   "source": [
    "'''\n",
    "Aufgabe: Entfernen von Frequenzen mittels signal.firwin() \n",
    "'''\n",
    "\n",
    "# zu verwendende Parameter für firwin()\n",
    "bw = 30  # Bandbreite\n",
    "n = 5001  # Ordnung\n",
    "wn = [(fsin_Hz-bw), (fsin_Hz+bw)]\n",
    "\n",
    "# Filterung mit Fenster\n",
    "h_fir = [..]       # ToDo: Erzeugen Sie mit signal.firwin() einen Bandsperrfilter.\n",
    "H_fir = [..]       # ToDo: Berechnen Sie mittels FFT den Frequenzbereich des Bandpassfilters\n",
    "s_filtered = [..]  # ToDo: Falten Sie das gestörte Signal \"s\" mit dem Filter \"h_filtered\" \n",
    "S_filtered = [..]  # ToDo: Berechnen Sie mittels FFT den Frequenzbereich des gefilterten Signals\n",
    "\n",
    "# plot\n",
    "plt.subplot(221)\n",
    "plt.title('Impulsantwort des Filters')\n",
    "plt.xlabel('Sample Nummer') \n",
    "plt.ylabel('Amplitude') \n",
    "plt.plot(h_fir)\n",
    "\n",
    "plt.subplot(222)\n",
    "plt.title('Spektral des Filters')\n",
    "plt.xlabel('Frequenz [rad]') \n",
    "plt.ylabel('Amplitude') \n",
    "plt.plot(f_Hz, np.abs(H_fir[:int(L/2)]))\n",
    "\n",
    "plt.subplot(223)\n",
    "plt.title('Audiosignal nach Bandsperrfilterung')\n",
    "plt.xlabel('Zeit [s]') \n",
    "plt.ylabel('Amplitude') \n",
    "plt.plot(t, s_filtered)\n",
    "\n",
    "plt.subplot(224)\n",
    "plt.title('Frequenzgang nach Filterung')\n",
    "plt.xlabel('Frequenz [rad]') \n",
    "plt.ylabel('Amplitude') \n",
    "plt.ylim(0, 200)\n",
    "plt.plot(f_Hz, np.abs(S_filtered[:int(L/2)]))\n",
    "plt.gcf().set_size_inches(15, 10)\n",
    "plt.show()"
   ]
  },
  {
   "cell_type": "code",
   "execution_count": null,
   "metadata": {},
   "outputs": [],
   "source": [
    "# Abspielen des gefilterten Signals\n",
    "sound = [..]    # ToDo: Konvertieren sie das Audiosignal in 16-Bit-Format (INT16) \n",
    "play_obj = [..] # ToDo: Abspielen von sound"
   ]
  },
  {
   "cell_type": "code",
   "execution_count": null,
   "metadata": {},
   "outputs": [],
   "source": [
    "# Lösung\n",
    "\n",
    "'''\n",
    "Aufgabe: Entfernen von Signalen mittels signal.firwin() \n",
    "'''\n",
    "# Parameter\n",
    "bw = 30  # Bandbreite\n",
    "n = 5001  # Ordnung\n",
    "wn = [(fsin_Hz-bw), (fsin_Hz+bw)]\n",
    "\n",
    "# Filterung mit Fenster\n",
    "h_fir = signal.firwin(n, wn, window='hamming', fs=fs_Hz)\n",
    "H_fir = fftpack.fft(h_fir, L)  # Spektral des Filters\n",
    "s_filtered = signal.convolve(s, h_fir, 'same')  # Faltung\n",
    "S_filtered = fftpack.fft(s_filtered)  # Spektral des Signals\n",
    "\n",
    "# plot\n",
    "plt.subplot(221)\n",
    "plt.title('Impulsantwort des Filters')\n",
    "plt.xlabel('Sample Nummer') \n",
    "plt.ylabel('Amplitude') \n",
    "plt.plot(h_fir)\n",
    "plt.subplot(222)\n",
    "plt.title('Spektral des Filters')\n",
    "plt.xlabel('Frequenz [rad]') \n",
    "plt.ylabel('Amplitude') \n",
    "plt.plot(f_Hz, np.abs(H_fir[:int(L/2)]))\n",
    "plt.subplot(223)\n",
    "plt.title('Audiosignal nach Bandsperrfilterung')\n",
    "plt.xlabel('Zeit [s]') \n",
    "plt.ylabel('Amplitude') \n",
    "plt.plot(t, s_filtered)\n",
    "plt.subplot(224)\n",
    "plt.title('Frequenzgang nach Filterung')\n",
    "plt.xlabel('Frequenz [rad]') \n",
    "plt.ylabel('Amplitude') \n",
    "plt.ylim(0, 200)\n",
    "plt.plot(f_Hz, np.abs(S_filtered[:int(L/2)]))\n",
    "plt.gcf().set_size_inches(15, 10)\n",
    "plt.show()\n",
    "\n",
    "# Abspielen\n",
    "sound = (s_filtered * (2**15 - 1) / np.max(np.abs(s_filtered))).astype(np.int16)\n",
    "play_obj = sa.play_buffer(sound, 1, 2, fs_Hz)"
   ]
  },
  {
   "cell_type": "markdown",
   "metadata": {},
   "source": [
    "    "
   ]
  },
  {
   "cell_type": "markdown",
   "metadata": {},
   "source": [
    "Vom Ergebnis können wir finden, um das Sinussignal zu entfernen, braucht man eine sehr hohe Ordnung zu verwenden, was bedeutet die große Anforderung von Speicherplatz, einen goßen Rechenaufwand und niedrige Effizienz.  \n",
    "\n",
    "Anschließend verwenden wir IIR-Filter zum Entfernen von Signalen."
   ]
  },
  {
   "cell_type": "markdown",
   "metadata": {},
   "source": [
    "----"
   ]
  },
  {
   "cell_type": "markdown",
   "metadata": {},
   "source": [
    "    "
   ]
  },
  {
   "cell_type": "markdown",
   "metadata": {},
   "source": [
    "<a id='iir'></a><div><img src=\"img/IMG-iir.jpg\" style=\"float:left\"><h2 style=\"position: relative; top: 6px; left: 6px\">3. IIR-Filterung </h2></div>"
   ]
  },
  {
   "cell_type": "markdown",
   "metadata": {},
   "source": [
    "#### 3.1 Butterworth Filter"
   ]
  },
  {
   "cell_type": "markdown",
   "metadata": {},
   "source": [
    "- Butterworth Filterentwurf mit Ordnung=10"
   ]
  },
  {
   "cell_type": "code",
   "execution_count": null,
   "metadata": {},
   "outputs": [],
   "source": [
    "'''\n",
    "Beispiel: Entfernen von Signalen mittels IIR-Bandsperrfilters (Butterworth)\n",
    "'''\n",
    "# Parameter\n",
    "bw = 30  # Bandbreite des Filters\n",
    "n = 10  # Ordnung des IIR-Filters\n",
    "wn = [fsin_Hz-bw, fsin_Hz+bw]  # Frequenzbereich des Sperrbands\n",
    "\n",
    "# Filterung \n",
    "sos = signal.butter(n, wn, 'bs', analog=False, fs=fs_Hz, output='sos')\n",
    "w, H_butt = signal.sosfreqz(sos, int(L/2), fs=fs_Hz)\n",
    "s_filtered = signal.sosfilt(sos, s_windowed)\n",
    "S_filtered = fftpack.fft(s_filtered)\n",
    "\n",
    "# plot\n",
    "plt.subplot(311)\n",
    "plt.title('Frequenzgang des Butterworth Filters mit Ordnung=%d' %n)\n",
    "plt.xlabel('Frequenz [rad]') \n",
    "plt.ylabel('Amplitude') \n",
    "plt.plot(f_Hz, np.abs(H_butt[:int(L/2)]))\n",
    "plt.subplot(312)\n",
    "plt.title('Audiosignal nach Filterung')\n",
    "plt.xlabel('Zeit [s]') \n",
    "plt.ylabel('Amplitude') \n",
    "plt.plot(t, s_filtered)\n",
    "plt.subplot(313)\n",
    "plt.title('Frequenzgang nach Filterung')\n",
    "plt.xlabel('Frequenz [rad]') \n",
    "plt.ylabel('Amplitude') \n",
    "plt.ylim(0, 200)\n",
    "plt.plot(f_Hz, np.abs(S_filtered[:int(L/2)]))\n",
    "plt.gcf().set_size_inches(8, 16)\n",
    "plt.show()\n",
    "\n",
    "# Abspielen\n",
    "sound = (s_filtered * (2**15 - 1) / np.max(np.abs(s_filtered))).astype(np.int16)\n",
    "play_obj = sa.play_buffer(sound, 1, 2, fs_Hz)"
   ]
  },
  {
   "cell_type": "code",
   "execution_count": null,
   "metadata": {},
   "outputs": [],
   "source": [
    "# Lösung\n",
    "'''\n",
    "Beispiel: Entfernen von Signalen mittels IIR-Bandsperrfilters (Butterworth)\n",
    "'''\n",
    "# Parameter\n",
    "bw = 30  # Bandbreite des Filters\n",
    "n = 10  # Ordnung des IIR-Filters\n",
    "wn = [fsin_Hz-bw, fsin_Hz+bw]  # Frequenzbereich des Sperrbands\n",
    "\n",
    "# Filterung \n",
    "sos = signal.butter(n, wn, 'bs', analog=False, fs=fs_Hz, output='sos')\n",
    "w, H_butt = signal.sosfreqz(sos, int(L/2), fs=fs_Hz)\n",
    "s_filtered = signal.sosfilt(sos, s_windowed)\n",
    "S_filtered = fftpack.fft(s_filtered)\n",
    "\n",
    "# plot\n",
    "plt.subplot(311)\n",
    "plt.title('Frequenzgang des Butterworth Filters mit Ordnung=%d' %n)\n",
    "plt.xlabel('Frequenz [rad]') \n",
    "plt.ylabel('Amplitude') \n",
    "plt.plot(f_Hz, np.abs(H_butt[:int(L/2)]))\n",
    "plt.subplot(312)\n",
    "plt.title('Audiosignal nach Filterung')\n",
    "plt.xlabel('Zeit [s]') \n",
    "plt.ylabel('Amplitude') \n",
    "plt.plot(t, s_filtered)\n",
    "plt.subplot(313)\n",
    "plt.title('Frequenzgang nach Filterung')\n",
    "plt.xlabel('Frequenz [rad]') \n",
    "plt.ylabel('Amplitude') \n",
    "plt.ylim(0, 200)\n",
    "plt.plot(f_Hz, np.abs(S_filtered[:int(L/2)]))\n",
    "plt.gcf().set_size_inches(8, 16)\n",
    "plt.show()\n",
    "\n",
    "# Abspielen\n",
    "sound = (s_filtered * (2**15 - 1) / np.max(np.abs(s_filtered))).astype(np.int16)\n",
    "play_obj = sa.play_buffer(sound, 1, 2, fs_Hz)"
   ]
  },
  {
   "cell_type": "markdown",
   "metadata": {},
   "source": [
    "- Butterworth Filterentwurf mit Ordnungselektion"
   ]
  },
  {
   "cell_type": "code",
   "execution_count": null,
   "metadata": {},
   "outputs": [],
   "source": [
    "'''\n",
    "Aufgabe: Entfernen von Signalen mittels IIR-Bandsperrfilters (Butterworth)\n",
    "'''\n",
    "# Ordnungselektion\n",
    "bw = 30  # Bandbreite\n",
    "n, wn = signal.buttord([fsin_Hz-bw-10, fsin_Hz+bw+10], [fsin_Hz-bw, fsin_Hz+bw], 10, 60, False, fs_Hz)\n",
    "\n",
    "# Filterung \n",
    "sos = signal.butter(n, wn, 'bs', False, 'sos', fs_Hz)\n",
    "w, H_butt = signal.sosfreqz(sos, int(L/2), fs=fs_Hz)\n",
    "s_filtered = signal.sosfilt(sos, s_windowed)\n",
    "S_filtered = fftpack.fft(s_filtered)\n",
    "\n",
    "# plot\n",
    "plt.subplot(311)\n",
    "plt.title('Frequenzgang des Butterworth Filters mit Ordnung=%d' %n)\n",
    "plt.xlabel('Frequenz [rad]') \n",
    "plt.ylabel('Amplitude') \n",
    "plt.plot(f_Hz, np.abs(H_butt[:int(L/2)]))\n",
    "plt.subplot(312)\n",
    "plt.title('Audiosignal nach Filterung')\n",
    "plt.xlabel('Zeit [s]') \n",
    "plt.ylabel('Amplitude') \n",
    "plt.plot(t, s_filtered)\n",
    "plt.subplot(313)\n",
    "plt.title('Frequenzgang nach Filterung')\n",
    "plt.xlabel('Frequenz [rad]') \n",
    "plt.ylabel('Amplitude') \n",
    "plt.ylim(0, 200)\n",
    "plt.plot(f_Hz, np.abs(S_filtered[:int(L/2)]))\n",
    "plt.gcf().set_size_inches(8, 16)\n",
    "plt.show()\n",
    "\n",
    "# Abspielen\n",
    "sound = (s_filtered * (2**15 - 1) / np.max(np.abs(s_filtered))).astype(np.int16)\n",
    "play_obj = sa.play_buffer(sound, 1, 2, fs_Hz)"
   ]
  },
  {
   "cell_type": "markdown",
   "metadata": {},
   "source": [
    "Für dieselbe Filterqualität ist die Ordnungszahl der IIR-Filter viel geringer!"
   ]
  },
  {
   "cell_type": "markdown",
   "metadata": {},
   "source": [
    "    "
   ]
  },
  {
   "cell_type": "markdown",
   "metadata": {},
   "source": [
    "### 3.2 Chebyshev Filter"
   ]
  },
  {
   "cell_type": "code",
   "execution_count": null,
   "metadata": {},
   "outputs": [],
   "source": [
    "'''\n",
    "Aufgabe: Entfernen von Signalen mittels IIR-Bandsperrfilters (Chebyshev II mit Ordnungselektion)\n",
    "'''\n",
    "\n",
    "# Ordnungselektion\n",
    "bw = 30  # Bandbreite\n",
    "n, wn = signal.cheb2ord([fsin_Hz-bw-10, fsin_Hz+bw+10], [fsin_Hz-bw, fsin_Hz+bw], 10, 60, False, fs_Hz)\n",
    "\n",
    "# Filterung\n",
    "sos = signal.cheby2(n, 60, wn, 'bs', False, 'sos', fs_Hz)\n",
    "w, H_cheby = signal.sosfreqz(sos, int(L/2), fs=fs_Hz)\n",
    "s_filtered = signal.sosfilt(sos, s_windowed)\n",
    "S_filtered = fftpack.fft(s_filtered)\n",
    "\n",
    "# plot\n",
    "plt.subplot(311)\n",
    "plt.title('Frequenzgang des Chebyshev-II Filters mit Ordnung=%d' %n)\n",
    "plt.xlabel('Frequenz [rad]') \n",
    "plt.ylabel('Amplitude') \n",
    "plt.plot(f_Hz, np.abs(H_cheby[:int(L/2)]))\n",
    "plt.subplot(312)\n",
    "plt.title('Audiosignal nach Filterung')\n",
    "plt.xlabel('Zeit [s]') \n",
    "plt.ylabel('Amplitude') \n",
    "plt.plot(t, s_filtered)\n",
    "plt.subplot(313)\n",
    "plt.title('Frequenzgang nach Filterung')\n",
    "plt.xlabel('Frequenz [rad]') \n",
    "plt.ylabel('Amplitude') \n",
    "plt.ylim(0, 200)\n",
    "plt.plot(f_Hz, np.abs(S_filtered[:int(L/2)]))\n",
    "plt.gcf().set_size_inches(8, 16)\n",
    "plt.show()\n",
    "\n",
    "# Abspielen\n",
    "sound = (s_filtered * (2**15 - 1) / np.max(np.abs(s_filtered))).astype(np.int16)\n",
    "play_obj = sa.play_buffer(sound, 1, 2, fs_Hz)"
   ]
  },
  {
   "cell_type": "markdown",
   "metadata": {},
   "source": [
    "    "
   ]
  },
  {
   "cell_type": "markdown",
   "metadata": {},
   "source": [
    "Zum Schluss können wir das verarbeitete Audiosignal wieder als wav-Datei speichern:"
   ]
  },
  {
   "cell_type": "code",
   "execution_count": null,
   "metadata": {},
   "outputs": [],
   "source": [
    "'''\n",
    "Beispiel: Daten in eine wav-Datei schreiben\n",
    "'''\n",
    "import numpy as np\n",
    "from scipy.io import wavfile\n",
    "from playsound import playsound\n",
    "\n",
    "# Pfad einer neuen wav-Datei bestimmen\n",
    "file_path = 'data/akustik_filtered.wav'\n",
    "# Audiodaten in 16-Bit-Format konvertieren\n",
    "data = (s_filtered * (2**15 - 1) / np.max(np.abs(s_filtered))).astype(np.int16)\n",
    "# Audiodaten schreiben\n",
    "wavfile.write(file_path, fs_Hz, data)\n",
    "\n",
    "# Testen, ob die Daten erfolgreich gespeichert wurde\n",
    "playsound('data/akustik_filtered.wav')"
   ]
  },
  {
   "cell_type": "markdown",
   "metadata": {},
   "source": [
    "----"
   ]
  },
  {
   "cell_type": "markdown",
   "metadata": {},
   "source": [
    "    "
   ]
  },
  {
   "cell_type": "markdown",
   "metadata": {},
   "source": [
    "    "
   ]
  },
  {
   "cell_type": "markdown",
   "metadata": {},
   "source": [
    "### References\n",
    "\n",
    "1. Titelbild von [Encarni Mármol](https://lda-audiotech.com/en/2018/10/30/how-to-digitize-analog-audio/)  \n",
    "2. [Play sound in Python](https://pythonbasics.org/python-play-sound/)"
   ]
  }
 ],
 "metadata": {
  "kernelspec": {
   "display_name": "Python 3.8",
   "language": "python",
   "name": "python_3.8"
  },
  "language_info": {
   "codemirror_mode": {
    "name": "ipython",
    "version": 3
   },
   "file_extension": ".py",
   "mimetype": "text/x-python",
   "name": "python",
   "nbconvert_exporter": "python",
   "pygments_lexer": "ipython3",
   "version": "3.8.6"
  }
 },
 "nbformat": 4,
 "nbformat_minor": 4
}
