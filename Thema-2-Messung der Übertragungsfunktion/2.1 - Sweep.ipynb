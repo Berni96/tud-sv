{
 "cells": [
  {
   "cell_type": "markdown",
   "metadata": {},
   "source": [
    "# Sweep"
   ]
  },
  {
   "cell_type": "markdown",
   "metadata": {},
   "source": [
    "    "
   ]
  },
  {
   "cell_type": "markdown",
   "metadata": {},
   "source": [
    "<img style=\"float: right\" src=\"img/1-title.gif\" width=\"600\">\n",
    "\n",
    "Sweeps sind eine beliebte Methode zur Messung der Übertragungsfunktion eines linearen Systems, da sie eine Reihe von positiven Eigenschaften aufweisen wie bspw. einen (einstellbaren) glatten Amplitudenfrequenzgang.\n",
    "\n",
    "## Inhalt  \n",
    "<table style=\"width:256px; border: 1px solid black; display: inline-block\">\n",
    "    <tr>\n",
    "        <td style=\"text-align:right\" width=64px><img src=\"img/1-1.jpg\" style=\"float:left\"></td>\n",
    "        <td style=\"text-align:left\" width=256px>\n",
    "            <a style=\"color:black; font-size:14px; font-weight:bold; text-decoration:none\" href='#1'>\n",
    "                1. Zeitsignal\n",
    "            </a>\n",
    "        </td>\n",
    "    </tr>  \n",
    "    <tr>\n",
    "        <td style=\"text-align:right\"><img src=\"img/1-2.jpg\" style=\"float:left\"></td>\n",
    "        <td style=\"text-align:left\" width=128px>\n",
    "            <a style=\"color:black; font-size:14px; font-weight:bold; text-decoration:none\" href='#2'>\n",
    "                2. Spektrum\n",
    "            </a>\n",
    "        </td>\n",
    "    </tr>\n",
    "</table>"
   ]
  },
  {
   "cell_type": "markdown",
   "metadata": {},
   "source": [
    "----"
   ]
  },
  {
   "cell_type": "markdown",
   "metadata": {},
   "source": [
    "<a id='1'></a>\n",
    "<div>\n",
    "    <img src=\"img/1-1.jpg\" style=\"float:left\">\n",
    "    <h2 style=\"position: relative; top: 6px; left: 6px\">\n",
    "        1. Zeitsignal \n",
    "    </h2>\n",
    "</div>"
   ]
  },
  {
   "cell_type": "markdown",
   "metadata": {},
   "source": [
    "Ein Sweep $x(t)$ im Zeitbereich ist eine harmonische Schwingung mit zeitabhängigem Phasenargument $\\varphi (t)$, dessen Momentanfrequenz $\\omega (t)$ mit der Zeit monoton zu- oder abnimmt (weswegen er auch Gleitsinus genannt wird, in Abgrenzung zu Sinusschwingungen mit einer konstanten Phase) :\n",
    "\\begin{equation*}\n",
    "x(t)=x_{0}\\sin (\\varphi (t))\\; \\; mit \\; \\; \\omega (t)=\\frac{\\mathrm{d} \\varphi (t)}{\\mathrm{d} t}\\; \\; \n",
    "\\rightarrow \\; \\;  x(t)=x_{0}\\sin (\\int \\omega (t)dt + \\varphi_{0})\n",
    "\\end{equation*}  \n",
    "In der Umgebung eines Zeitpunkts $t_{0}$ mit der _Momentanfrequenz_ $\\omega _{0}$ nähert sich $x(t)$ einer Sinusfunktion mit der Frequenz $\\omega _{0}$ an."
   ]
  },
  {
   "cell_type": "markdown",
   "metadata": {},
   "source": [
    "Im Nachfolgenden soll der in Übung 6.1 händisch berechnete Sweep implementiert und visualisiert werden. Am Ende wird, wie bei den Filtern in Thema1, die Möglichkeit der Verwendung der [scipy.signal](https://docs.scipy.org/doc/scipy/reference/signal.html) toolbox erwähnt."
   ]
  },
  {
   "cell_type": "markdown",
   "metadata": {},
   "source": [
    "Zunächst werden die Start- und Endfrequenz $f_{start}$ und $f_{end}$ bzw. $\\omega_{start}$ und $\\omega_{end}$ sowie die notwendige Abtastfrequenz $f_s$ festgelegt:"
   ]
  },
  {
   "cell_type": "code",
   "execution_count": null,
   "metadata": {},
   "outputs": [],
   "source": [
    "'''\n",
    "Module importieren und Grundparameter definieren:\n",
    "'''\n",
    "import numpy as np\n",
    "\n",
    "fs_Hz = 16e3     # Abtastfrequenz (für diese Aufgabe relativ beliebig)\n",
    "dt_s = 1/fs_Hz   # Zeitintervall\n",
    "fStart_Hz = 200  # Startfrequenz [Hz]\n",
    "fEnd_Hz = 1000   # Endfrequenz [Hz]\n",
    "wStart_rad_per_s = fStart_Hz * 2 * np.pi  # Startfrequenz [rad]\n",
    "wEnd_rad_per_s = fEnd_Hz * 2 * np.pi  # Endfrequenz [rad]\n",
    "wm_rad_per_s = (wStart_rad_per_s + wEnd_rad_per_s) / 2  # Mittenfrequenz [rad/s]"
   ]
  },
  {
   "cell_type": "markdown",
   "metadata": {},
   "source": [
    "Anschließend werden die Funktionen für die Phasenwinkel $\\varphi_1(t)$ und $\\varphi_2(t)$ definiert:"
   ]
  },
  {
   "cell_type": "code",
   "execution_count": null,
   "metadata": {},
   "outputs": [],
   "source": [
    "def calculatePhi1(t_s, wStart_rad_per_s, k, T_s):\n",
    "    phi = k*t_s**4/(3*T_s**2) + wStart_rad_per_s*t_s\n",
    "    return phi"
   ]
  },
  {
   "cell_type": "code",
   "execution_count": null,
   "metadata": {},
   "outputs": [],
   "source": [
    "def calculatePhi2(t_s, wStart_rad_per_s, k, T_s):\n",
    "    phi = k * t_s**4 / (3 * T_s**2) - 4*k / (3*T_s) * t_s**3 \\\n",
    "    + 2*k * t_s**2 - k*T_s*t_s + wStart_rad_per_s*t_s \\\n",
    "    + 7*k/48 * T_s**2 - wStart_rad_per_s*T_s/2\n",
    "    return phi"
   ]
  },
  {
   "cell_type": "markdown",
   "metadata": {},
   "source": [
    "Durch die Diskontinuität in der Einhüllenden ($a(t)$) müssen in diesem Spezialfall zusätzliche Bedingungen erfüllt werden, damit die Phase an der Übergangssstelle kontinuierlich verläuft. Zum einen muss der Sweep-Phasenwinkel $\\varphi(t)$ an der Stelle $T/2$ gleich sein:\n",
    "\\begin{equation}\n",
    "\\sin\\left(\\varphi_1\\left(\\frac{T}{2}\\right)\\right) = \\sin\\left(\\varphi_2\\left(\\frac{T}{2}\\right)\\right) \n",
    "\\end{equation}\n",
    "\n",
    "Substituiert man hier die berechneten Gleichungen aus der Übung für $\\varphi_1(T/2)$ und $\\varphi_2(T/2)$ ergibt sich die erste Bedingung\n",
    "\\begin{equation}\n",
    "\\sin\\left(\\frac{T\\cdot(7\\omega_1 + \\omega_2)}{16}\\right) = \\sin\\left(0\\right) = 0.\n",
    "\\end{equation}\n",
    "\n",
    "Zum anderen muss auch die Ableitung des Sweep-Phasenwinkels, $\\frac{\\mathrm{d}\\varphi(t)}{\\mathrm{d}t}$ gleich sein, d.h. aus der ersten Bedingung folgt (innere Ableitung nicht vergessen):\n",
    "\n",
    "\\begin{align}\n",
    "&\\cos\\left(\\frac{T\\cdot(7\\omega_1 + \\omega_2)}{16}\\right)\\cdot \\left(\\frac{\\omega_1 + \\omega_2}{2}\\right) = \\cos\\left(0\\right)\\cdot \\left(\\frac{\\omega_1 + \\omega_2}{2}\\right) = 1 \\\\\n",
    "&\\Leftrightarrow \\cos\\left(\\frac{T\\cdot(7\\omega_1 + \\omega_2)}{16}\\right) = 1.\n",
    "\\end{align}\n",
    "\n",
    "Beide Gleichungen sind erfüllt, wenn das Argument ein Vielfaches von $2\\pi$ ist. Damit kann die Sweepdauer $T$ explizit durch\n",
    "\n",
    "\\begin{equation}\n",
    "\\frac{T}{16}\\left(\\omega_1 + \\omega_2\\right) = 2\\pi\\cdot n,\\qquad n=0,1,2,3,\\dots\n",
    "\\end{equation}\n",
    "\n",
    "berechnet werden und ist durch $n\\in \\mathbb{N}$ nicht komplett frei wählbar.\n",
    "Dieser Zusammenhang für die Periode $T$ ist in der nachfolgenden Funktion definiert:"
   ]
  },
  {
   "cell_type": "code",
   "execution_count": null,
   "metadata": {},
   "outputs": [],
   "source": [
    "# Phasenwinkelfunktion\n",
    "def calculatePeriod(wStart_rad_per_s, wEnd_rad_per_s, n_periods):\n",
    "    T_s = 2*n_periods*np.pi*16 / (7*wStart_rad_per_s + wEnd_rad_per_s)  \n",
    "    return T_s"
   ]
  },
  {
   "cell_type": "markdown",
   "metadata": {},
   "source": [
    "Zu guter Letzt werden noch die beiden Funktionen für die Berechnung der Amplitudenmodulaton $a(t)$ für beide Hälften definiert:"
   ]
  },
  {
   "cell_type": "code",
   "execution_count": null,
   "metadata": {},
   "outputs": [],
   "source": [
    "# Amplitudenmodulationsfunktionen:\n",
    "def calculateAmplitude1(t_s, T_s):\n",
    "    a = 2/T_s*t_s\n",
    "    return a\n",
    "\n",
    "def calculateAmplitude2(t_s, T_s):\n",
    "    a = -2/T_s*(t_s-T_s)\n",
    "    return a"
   ]
  },
  {
   "cell_type": "code",
   "execution_count": null,
   "metadata": {},
   "outputs": [],
   "source": [
    "\n",
    "# Sweepdauer T berechnen in Abhängigkeit von ganzen Perioden 2*pi*n:\n",
    "n_periods = 300;\n",
    "T_s = calculatePeriod(wStart_rad_per_s, wEnd_rad_per_s, n_periods)  # die Dauer des Sweeps\n",
    "print(\"Sweepdauer: {} Sekunden.\\n\".format(T_s))\n",
    "\n",
    "# Konstante k:\n",
    "k = 3/T_s * (wEnd_rad_per_s - wStart_rad_per_s)  "
   ]
  },
  {
   "cell_type": "markdown",
   "metadata": {},
   "source": [
    "Jetzt können wir den Sweep damit berechnen und plotten:"
   ]
  },
  {
   "cell_type": "code",
   "execution_count": null,
   "metadata": {},
   "outputs": [],
   "source": [
    "'''\n",
    "Aufgabe: Inplementieren des Sweeps nach Übung 6.1\n",
    "'''\n",
    "import matplotlib.pyplot as plt\n",
    "\n",
    "# Laufvariable t definieren:\n",
    "t1_s = np.linspace(0, T_s/2, int(fs_Hz*T_s/2))\n",
    "t2_s = np.linspace(T_s/2+dt_s, T_s, int(fs_Hz*T_s/2-1))\n",
    "\n",
    "# Phasenwinkel für beide Abschnitte:\n",
    "phi1_rad = calculatePhi1(t1_s, wStart_rad_per_s, k, T_s)\n",
    "phi2_rad = calculatePhi2(t2_s, wStart_rad_per_s, k, T_s)\n",
    "\n",
    "# Einhüllende für beide Abschnitte:\n",
    "a1 = calculateAmplitude1(t1_s, T_s)\n",
    "a2 = calculateAmplitude2(t2_s, T_s)\n",
    "\n",
    "# Vollständigen Sweep zusammensetzen:\n",
    "sweep1 = a1 * np.sin(phi1_rad)\n",
    "sweep2 = a2 * np.sin(phi2_rad)\n",
    "t_s = np.append(t1_s, t2_s)        \n",
    "sweep = np.append(sweep1, sweep2)\n",
    "\n",
    "# Plot\n",
    "plt.title('Sweep von %d Hz bis %d Hz' %(fStart_Hz, fEnd_Hz))\n",
    "plt.xlabel('Zeit [s]') \n",
    "plt.ylabel('x(t)') \n",
    "plt.plot(t_s, sweep)\n",
    "plt.gcf().set_size_inches(20, 5)\n",
    "plt.show()"
   ]
  },
  {
   "cell_type": "markdown",
   "metadata": {},
   "source": [
    "----"
   ]
  },
  {
   "cell_type": "markdown",
   "metadata": {},
   "source": [
    "    "
   ]
  },
  {
   "cell_type": "markdown",
   "metadata": {},
   "source": [
    "<a id='2'></a>\n",
    "<div>\n",
    "    <img src=\"img/1-2.jpg\" style=\"float:left\">\n",
    "    <h2 style=\"position: relative; top: 6px; left: 6px\">\n",
    "        2. Spektrum \n",
    "    </h2>\n",
    "</div>"
   ]
  },
  {
   "cell_type": "markdown",
   "metadata": {},
   "source": [
    "Um sicherzustellen, dass der Sweep tatsächlich das (annähernd) glatte Spektrum über den definierten Frequenzbereich von $f_{start}$ bis $f_{end}$ besitzt, wird der Amplitudenfrequenzgang $|X(k)|$ über die FFT berechnet:"
   ]
  },
  {
   "cell_type": "code",
   "execution_count": null,
   "metadata": {},
   "outputs": [],
   "source": [
    "'''\n",
    "Aufgabe: Spektrum des Sweeps berechnen\n",
    "'''\n",
    "from scipy import fftpack\n",
    "\n",
    "# Parameter\n",
    "N = int(2**(np.floor(np.log2(len(sweep))))) # Länge von FFT\n",
    "f_Hz = np.linspace(0, fs_Hz/2, int(N/2))    # Frequenzbereich\n",
    "\n",
    "# FFT\n",
    "sweep_fft = fftpack.fft(sweep, N)\n",
    "sweep_fft_plot = np.abs(sweep_fft[:len(f_Hz)]) / int(N/2)\n",
    "\n",
    "# Plot \n",
    "plt.title('Amplitudenfrequenzgang')\n",
    "plt.xlabel('Frequenz [Hz]') \n",
    "plt.ylabel('|X(f)|') \n",
    "plt.plot(f_Hz, sweep_fft_plot)\n",
    "plt.axis([fStart_Hz*0.5, fEnd_Hz*1, 0, np.max(sweep_fft_plot)*1.1])\n",
    "plt.gcf().set_size_inches(10, 5)\n",
    "plt.show()"
   ]
  },
  {
   "cell_type": "markdown",
   "metadata": {},
   "source": [
    "    "
   ]
  },
  {
   "cell_type": "markdown",
   "metadata": {},
   "source": [
    "Abspielen des Sweepssignal $x(t)$ ergibt das charakteristische Sweepgeräusch:"
   ]
  },
  {
   "cell_type": "code",
   "execution_count": null,
   "metadata": {},
   "outputs": [],
   "source": [
    "'''\n",
    "Aufgabe: Sweep abspielen\n",
    "'''\n",
    "import numpy as np\n",
    "import simpleaudio as sa\n",
    "\n",
    "# Werte in 16-Bit-Daten konvertieren\n",
    "sound = (sweep*(2**15-1)/np.max(np.abs(sweep))).astype(np.int16)\n",
    "\n",
    "# Abspielen\n",
    "play_obj = sa.play_buffer(sound, 1, 2, int(fs_Hz))\n",
    "play_obj.wait_done()"
   ]
  },
  {
   "cell_type": "markdown",
   "metadata": {},
   "source": [
    "    "
   ]
  },
  {
   "cell_type": "markdown",
   "metadata": {},
   "source": [
    "----"
   ]
  },
  {
   "cell_type": "markdown",
   "metadata": {},
   "source": [
    "    "
   ]
  },
  {
   "cell_type": "markdown",
   "metadata": {},
   "source": [
    "<a id='2'></a>\n",
    "<div>\n",
    "    <h2 style=\"position: relative; top: 6px; left: 6px\">\n",
    "        *. Erweiterung \n",
    "    </h2>\n",
    "</div>"
   ]
  },
  {
   "cell_type": "markdown",
   "metadata": {},
   "source": [
    "Im Modul scipy ist die Funktion [signal.chirp()](https://docs.scipy.org/doc/scipy/reference/generated/scipy.signal.chirp.html) als Frequenzgesteuerter Kosinusgenerator vorhanden, dadurch können Sweeps deutlich einfacher erzeugt werden:"
   ]
  },
  {
   "cell_type": "code",
   "execution_count": null,
   "metadata": {},
   "outputs": [],
   "source": [
    "'''\n",
    "Beispiel: Sweep mittels signal.chirp() erzeugen\n",
    "'''\n",
    "from scipy.signal import chirp, spectrogram\n",
    "import matplotlib.pyplot as plt\n",
    "import numpy as np\n",
    "import simpleaudio as sa\n",
    "\n",
    "# Sweep-Parameter definieren:\n",
    "fsChirp_Hz = 16000\n",
    "TChirp_s = 3\n",
    "tChirp_s = np.linspace(0, TChirp_s, TChirp_s*fsChirp_Hz, endpoint=False)\n",
    "chirpStartFreq_Hz = 200\n",
    "chirpEndFreq_Hz = 1000\n",
    "\n",
    "# Sweep und dessen Amplitudenfrequeuzgang berechnen:\n",
    "xSweep = chirp(tChirp_s, chirpStartFreq_Hz, TChirp_s, chirpEndFreq_Hz, 'linear')\n",
    "fChirp_Hz, tChirpSg_s, XSweep_f = spectrogram(xSweep, fsChirp_Hz, nperseg=250)\n",
    "\n",
    "# Plot\n",
    "plt.subplot(121)\n",
    "plt.title('Linearer Chirp, f(0)=%d Hz, f(%d)=%d Hz' %(chirpStartFreq_Hz, TChirp_s, chirpEndFreq_Hz))\n",
    "plt.xlabel('Zeit [s]') \n",
    "plt.ylabel('$x_{sweep}$(t)') \n",
    "plt.plot(tChirp_s, xSweep)\n",
    "plt.subplot(122)\n",
    "plt.title('Spektrogramm')\n",
    "plt.xlabel('Frequenz [Hz]') \n",
    "plt.ylabel('|$X_{sweep}$(f)|') \n",
    "plt.pcolormesh(tChirpSg_s, fChirp_Hz, XSweep_f,shading='gouraud')\n",
    "plt.gcf().set_size_inches(15, 5)\n",
    "plt.show()"
   ]
  },
  {
   "cell_type": "code",
   "execution_count": null,
   "metadata": {},
   "outputs": [],
   "source": [
    "'''\n",
    "Aufgabe: Sweep abspielen\n",
    "'''\n",
    "import numpy as np\n",
    "import simpleaudio as sa\n",
    "\n",
    "# Werte in 16-Bit-Daten konvertieren\n",
    "sound = (xSweep*(2**15-1)/np.max(np.abs(xSweep))).astype(np.int16)\n",
    "\n",
    "# Abspielen\n",
    "play_obj = sa.play_buffer(sound, 1, 2, int(fsChirp_Hz))\n",
    "play_obj.wait_done()"
   ]
  },
  {
   "cell_type": "markdown",
   "metadata": {},
   "source": [
    "Die Verwendung eines Spektrogramms statt eines einfachen Spektrums zur Darstellung des Frequenzbereiches (in diesem Falle in zusätzlicher Abhängigkeit von der Zeit) wird im nächsten Notebook noch ausführlich behandelt."
   ]
  },
  {
   "cell_type": "markdown",
   "metadata": {},
   "source": [
    "----"
   ]
  },
  {
   "cell_type": "markdown",
   "metadata": {},
   "source": [
    "    "
   ]
  },
  {
   "cell_type": "markdown",
   "metadata": {},
   "source": [
    "    "
   ]
  },
  {
   "cell_type": "markdown",
   "metadata": {},
   "source": [
    "    "
   ]
  },
  {
   "cell_type": "markdown",
   "metadata": {},
   "source": [
    "### References\n",
    "\n",
    "1. Titelbild von [wikimedia](https://commons.wikimedia.org/wiki/File:Chirp_animation.gif?uselang=de)  \n",
    "2. [Sweep (Signalverarbeitung)](https://de.wikipedia.org/wiki/Sweep_(Signalverarbeitung))  \n",
    "3. [Sinusoidal Sweep Signals](https://learn.digilentinc.com/Documents/132)  \n",
    "4. [Sine Sweep](https://theaudioprogrammer.com/signal-analysis-ii-linear-vs-logarithmic-sine-sweep/)  "
   ]
  }
 ],
 "metadata": {
  "kernelspec": {
   "display_name": "Python 3",
   "language": "python",
   "name": "python3"
  },
  "language_info": {
   "codemirror_mode": {
    "name": "ipython",
    "version": 3
   },
   "file_extension": ".py",
   "mimetype": "text/x-python",
   "name": "python",
   "nbconvert_exporter": "python",
   "pygments_lexer": "ipython3",
   "version": "3.8.3"
  }
 },
 "nbformat": 4,
 "nbformat_minor": 4
}
