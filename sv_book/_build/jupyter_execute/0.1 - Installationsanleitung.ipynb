{
 "cells": [
  {
   "cell_type": "markdown",
   "metadata": {
    "editable": false
   },
   "source": [
    "# 0.1 - Installationsanleitung"
   ]
  },
  {
   "cell_type": "markdown",
   "metadata": {
    "editable": false
   },
   "source": [
    "<img style=\"float: right; margin:5px 0px 0px 10px\" src=\"img/Titel.png\" width=\"400\">\n",
    "Begleitend zur Übung des Fachs Signalverarbeitung wird Ihnen eine Reihe an Jupyter-Notebooks zur Verfügung gestellt. Diese soll Ihnen sowohl beim Verständnis der in der Vorlesung und Übung behandelten Themen helfen, als auch die Fähigkeit zur selbstständigen Lösung eigener Problemstellungen geben.\n",
    "\n",
    "Die Bearbeitung der Notebooks ist dabei komplett freiwillig. Falls Sie aber Probleme, Fragen und Anmerkungen haben, posten Sie diese gerne ins Opal-Forum oder senden Sie uns eine Mail. \n",
    "\n",
    "\n",
    "Dieses Notebook soll Ihnen beim Einstieg mit Python und der Installation von Modulen helfen. Weitere Notebooks werden zeitnah zur jeweiligen Übung online gestellt.\n",
    "\n",
    "\n",
    "## Inhalt  \n",
    "<table style=\"width:256px; border: 1px solid black; display: inline-block\">\n",
    "    <tr>\n",
    "    <td  style=\"text-align:right\" width=64px><img src=\"img/IMG-binder.svg\" style=\"float:left\"></td>\n",
    "      <td style=\"text-align:left\" width=256px>\n",
    "          <a style=\"color:black; font-size:14px; font-weight:bold; text-decoration:none\" href='#binder'>1. Binder</a>\n",
    "      </td>\n",
    "  </tr>  \n",
    "    <tr>\n",
    "    <td  style=\"text-align:right\" width=64px><img src=\"img/IMG-Python.png\" style=\"float:left\"></td>\n",
    "      <td style=\"text-align:left\" width=256px>\n",
    "          <a style=\"color:black; font-size:14px; font-weight:bold; text-decoration:none\" href='#python'>2. Python</a>\n",
    "      </td>\n",
    "  </tr>  \n",
    "  <tr>\n",
    "    <td style=\"text-align:right\"><img src=\"img/IMG-jupyter.png\" style=\"float:left\"></td>\n",
    "    <td style=\"text-align:left\" width=128px><a style=\"color:black; font-size:14px; font-weight:bold; text-decoration:none\" href='#jupyter'>3. Jupyter Notebooks</a>\n",
    "      </td>\n",
    "  </tr>\n",
    "</table>"
   ]
  },
  {
   "cell_type": "markdown",
   "metadata": {
    "editable": false
   },
   "source": [
    "<a id='binder'></a><div><img src=\"img/IMG-binder.svg\" width=24px style=\"float:left\"><h2 style=\"position: relative; top: 6px; left: 6px\">  1. Binder </h2></div>\n",
    "\n",
    "Sie schauen sich dieses Notebook sicherlich zuerst über den Service [```Binder```](https://mybinder.org/) an. Dieses Tool erlaubt es, auf Github hochgestellte Jupyter-Notebooks -wie zum Beispiel dieses- über einen externen Server auszuführen. Das gibt einem die Möglichkeit, sich Projekte ohne Download der Daten und ohne lokal installiertes Python anzuschauen. Gestartete Sessions werden aber nach ungefähr 10 Minuten Inaktivität vom Server geschlossen und alle Änderungen gehen damit verloren. [Hier gibt es weitere Informationen dazu.](https://mybinder.readthedocs.io/en/latest/about/about.html)\n",
    "\n",
    "Falls Sie also die von Ihnen bearbeiteten Notebooks gerne wiederverwenden möchten, ist eine Installation von Python notwendig. Eine Anleitung zur Installation unter Windows gibt es in den folgenden Kapiteln.\n",
    "\n",
    "***"
   ]
  },
  {
   "cell_type": "markdown",
   "metadata": {
    "editable": false
   },
   "source": [
    "<a id='python'></a><div><img src=\"img/IMG-Python.png\" style=\"float:left\"><h2 style=\"position: relative; top: 6px; left: 6px\">  2. Python </h2></div>\n",
    "\n",
    "<h4> Allgemeines</h4>\n",
    "\n",
    "\n",
    "Python ist eine Skriptsprache auf hoher Ebene, die Interpretation, Kompilierung, Interaktivität und Objektorientiertheit kombiniert. Python ist leicht zu erlernen, einfach zu lesen, und hat eine breite Palette von Standardbibliotheken. Einer der größten Vorteile von Python ist seine umfangreiche Bibliothek, die plattformübergreifend und mit UNIX, Windows und Macintosh kompatibel ist. Es gibt viele Tutorials über Python wie zum Beispiel auf [w3schools](https://www.w3schools.com/python/).   \n",
    "\n",
    "Falls Sie Python auf Ihren Rechner installieren wollen, gibt es im Folgenden eine Anleitung für Windows-Nutzer*innen, da die Installation und Nutzung von Python zum Teil sehr Kommandozeilen-intensiv sind.\n",
    "\n",
    "*Hinweis:* Es gibt zudem auch die Software `Anaconda`, die die Nutzung von Python und Jupyter-Notebooks vereinfacht. Bei Anaconda sind viele weitere externe Module schon vorinstalliert. Wir wollen Ihnen aber im Folgenden eine Anleitung geben, wie sie mit dem normalen Python umgehen. Falls Sie also Probleme bei der direkten Installation von Python haben, können Sie als Option auf die [Anaconda-Software zurückgreifen.](https://www.anaconda.com/products/individual) Sie können sich aber zuerst auch gerne an uns wenden.\n",
    "\n",
    "<br>\n",
    "\n",
    "<h4>Installations- und Nutzungsanleitung von Python</h4>\n",
    "\n",
    "Nun wird Ihnen Schritt für Schritt erklärt, wie Sie Python installieren können. Zuerst sollten Sie auf Ihren PC nachschauen, ob Sie schon eine Pythonversion installiert haben.\n",
    "\n",
    "1. **Kontrolle auf installierte Python-Versionen** <br>\n",
    "Öffnen Sie eine Eingabeaufforderung (cmd) und geben Sie den Befehl `py -0p` ein. Mit diesem Kommando wird -wenn verfügbar- der Python Launcher `py` ausgeführt, der nach ausführbaren Pythoninstallationen (sogenannten executables) sucht und diese nach ihren Versionen auflistet. Wenn dieser Befehl nicht gefunden wurde, haben Sie mit hoher Wahrscheinlichkeit kein Python installiert. Falls doch, schauen Sie über den angezeigten Pfad nach, ob es sich um ein von einem anderen Programm intern installiertes Python handelt. Falls dies der Fall ist, sollten Sie es lieber nicht verändern und ein neues Python installieren. Wenn Sie ein veraltetes Python installiert haben, können Sie die Zeit jetzt nutzen und eine neue Version installieren und Ihre alte Version entweder löschen oder behalten. Sie können nämlich unterschiedliche Python-Versionen nebeneinander installiert haben\n",
    "\n",
    "\n",
    "2. **Installation von Python:** <br>\n",
    "Die neuesten Versionen von Python [finden Sie hier](https://www.python.org/downloads/). Wählen Sie bei der Installation auch die Option \"Add Python 3.X to PATH\" aus! Diese Funktion fügt den Speicherort von \"python.exe\" (..\\Python3X\\) und den der externen Module (..\\Python3X\\Scripts\\) in die Umgebungsvariable \"PATH\", damit bei Funktionsaufrufen über die Eingabeaufforderung auch diese Ordner durchsucht werden. <br>\n",
    "   *Hinweis:* Bei der Erstellung dieses Notebooks ist die Version 3.9.0 kürzlich veröffentlicht worden. Deshalb waren einige externe Module bis zur Fertigstellung des Notebooks immer noch nicht aktualisiert worden und konnten nicht über den normalen Weg für Python 3.9 installiert werden. Probieren Sie es aber zuerst aus, die neueste Python-Version zu installieren. Falls Sie jetzt immer noch Probleme haben sollten, lassen Sie Python 3.9 einfach installiert und laden sich die Version 3.8 herunter, womit Sie zunächst arbeiten können. Die Probleme mit den inkompatiblen Modulen für Python 3.9 sollten nur eine Frage der Zeit sein, bis diese behoben sind. Zudem ist das zweimalige Installieren von Python eine gute Übung! ;)\n",
    "\n",
    "\n",
    "3. **Starten von Python:**<br>\n",
    "Python können Sie über die Eingabeaufforderung von Windows starten. Zum Öffnen der Eingabeaufforderung drücken Sie dafür zum Beispiel `Windows-Taste` + `R`, geben Sie \"*cmd*\" ein und drücken `Enter`.\n",
    "In der sich nun geöffneten Kommando-Shell können Sie Python über zwei unterschiedlichen Kommandos starten:\n",
    " - Bei dem Befehl `python` sucht die Shell alle im \"PATH\"-Verzeichnis eingetragenen Ordner nach einer executable (.exe) mit dem Namen python (also python.exe). Dabei werden die Verzeichnisse systematisch von oben nach unten durchgegangen und beim ersten Treffer hört die Suche auf und die .exe wird ausgeführt. Falls Sie nur eine Version installiert haben, sind Sie damit vollkommen zufrieden. Falls Sie aber mehrere Python-Versionen installiert haben, würde dies bedeuten, dass Sie immer die Verzeichnisse (..\\Python3X\\) und (..\\Python3X\\Scripts\\) der gewünschten Python-Version nach oben schieben müssen.\n",
    " - Mit dem Befehl [`py`](https://www.python.org/dev/peps/pep-0397/) wird der \"Python Launcher\" aufgerufen, der bei der Installation von Python in das Verzeichnis C:\\Windows\\ installiert wird. Wenn dieser ohne weitere Bedingungen von Ihnen gestartet wird, läuft der Befehl ab wie der Befehl `python`. Mit dem \"Python Launcher\" kann aber bestimmt werden, welche Python-Version gestartet werden soll. Um zum Beispiel Python mit Version 3.8 zu starten, hängt man einfach ein `-3.8`an. Also als komplettes Kommando: `py -3.8`. (Wenn Sie mehr Interesse an einzelnen Funktionen haben, können Sie immer ein `-h` hinter jede Funktion schreiben. Z.B.: `py -h` oder `python -h`.)\n",
    "\n",
    "Ein Python-Kernel startet und Ihnen sollte die Versionsnummer von dem von Ihnen installierten Python angezeigt werden. Falls dies nicht der Fall ist, müssen Sie gegebenenfalls den \"PATH\" in den Umgebungsvariablen editieren. Eine Anleitung dazu [finden Sie hier.](https://datatofish.com/add-python-to-windows-path/)\n",
    "\n",
    "Sie können jetzt Python verwenden, indem Sie Ihren Code zeilenweise in die Eingabeaufforderung eingeben. Probieren Sie zum Beispiel folgenden Code aus:\n",
    "\n",
    "<div style=\"background-color:rgba(0, 0, 0, 0.0470588); padding:10px 10px;font-family:monospace;\">\n",
    "\n",
    "2 + 3 *[Enter]*\n",
    "\n",
    "a = 6 *[Enter]*\n",
    "\n",
    "b = 12 *[Enter]*\n",
    "\n",
    "c = a + b *[Enter]*\n",
    "    \n",
    "c *[Enter]*                              #Kommentar: Ausgabe von c \n",
    "    \n",
    "A = [[1,2,3], [4,5,6]] *[Enter]*         #Kommentar: Erstellen einer 2x3-Matrix \n",
    "    \n",
    "A *[Enter]*                              #Kommentar: Ausgabe von A, equivalent zu print(A)\n",
    "</div>\n",
    "\n",
    "Zum Schließen des Kernels können Sie entweder \"*exit()*\" oder  `Strg` + `Z` eingeben und mit `Enter` bestätigen.\n",
    "\n",
    "<br>\n",
    "\n",
    "<h4> Nutzung von Modulen </h4>\n",
    "\n",
    "\n",
    "Es gibt built-in und externe Module (auch Packages oder Libraries genannt, hier aber ein [Link über die genaue Wortdefinition](https://docs.python.org/3/tutorial/modules.html)).\n",
    "\n",
    "Built-in Module können direkt verwendet werden und stellen die Basis zur Programmierung in Python dar. Zum Beispiel gibt es das Modul ```cmath``` für [komplexe Zahlen](https://docs.python.org/3/library/cmath.html#module-cmath). Daraus können Sie das Objekt ```complex()``` direkt nutzen, um eine komplexe Zahl zu erzeugen. Testen Sie den folgenden Code hier in der ausführbaren Zelle aus oder in Ihrer Eingabeaufforderung:"
   ]
  },
  {
   "cell_type": "code",
   "execution_count": 1,
   "metadata": {},
   "outputs": [
    {
     "name": "stdout",
     "output_type": "stream",
     "text": [
      "(1.4-3j)\n"
     ]
    }
   ],
   "source": [
    "# Starten Sie den Code, indem sie die Zelle auswählen und den Run-Button drücken \n",
    "# oder mit Shift + Enter\n",
    "\n",
    "c = complex(1.4, -3)  # Caste die Variable c als komplexe Zahl mit dem Wert 1.4 -3j\n",
    "print(c)              # Ausgabe des Inhalts von c"
   ]
  },
  {
   "cell_type": "markdown",
   "metadata": {
    "editable": false
   },
   "source": [
    "Die graphische Darstellung des Werts in einem Plot ist mit den internen Modulen aber zum Beispiel nicht mehr möglich. Dafür muss man sich mit einem externen Modul behelfen, zum Beispiel `matplotlib`. Diese externen Module müssen in Python installiert werden und für jedes Projekt importiert werden. Im Folgenden sind zwei Code-Zellen als Beispiel für installierte und nicht installierte Pakete im `Binder`-Projekt dargestellt.<br>\n",
    "Zuerst ein installiertes Modul zur Erzeugung von Plots:"
   ]
  },
  {
   "cell_type": "code",
   "execution_count": 2,
   "metadata": {
    "scrolled": true
   },
   "outputs": [
    {
     "data": {
      "image/png": "[encoded data removed]",
      "text/plain": [
       "<Figure size 640x480 with 1 Axes>"
      ]
     },
     "metadata": {
      "filenames": {
       "image/png": "C:\\Users\\bernh\\Desktop\\Uni\\Uni 8. SS\\SHK_AIS\\tud-sv\\sv_book\\_build\\jupyter_execute\\0.1 - Installationsanleitung_6_0.png"
      }
     },
     "output_type": "display_data"
    }
   ],
   "source": [
    "# Starten Sie den Code, indem sie die Zelle auswählen und den Run-Button drücken\n",
    "# oder mit Shift + Enter\n",
    "import matplotlib.pyplot as plt\n",
    "\n",
    "plt.scatter(c.real,c.imag, s=100)   # Ausgabe eines Punkts\n",
    "plt.show()                          # Plot zeigen"
   ]
  },
  {
   "cell_type": "markdown",
   "metadata": {
    "editable": false
   },
   "source": [
    "*Hinweis:* Falls Sie `matplotlib` schon lokal installiert haben und diesen über die Eingabeaufforderung nutzen, werden die Kommandos ausgeführt, nur wegen fehlender Ausgabemöglichkeit seitens der Eingabeaufforderung kann Ihnen der Plot nicht angezeigt werden.\n",
    "\n",
    "Als Beispiel für einen nicht ausführbaren Code in dem `Binder`-Projekt ist die folgende Zelle mit dem Modul `pandas`, das nicht mitinstalliert wurde (und im Weiteren auch nicht benötigt wird). "
   ]
  },
  {
   "cell_type": "code",
   "execution_count": 3,
   "metadata": {},
   "outputs": [
    {
     "ename": "ModuleNotFoundError",
     "evalue": "No module named 'pandas'",
     "output_type": "error",
     "traceback": [
      "\u001b[1;31m---------------------------------------------------------------------------\u001b[0m",
      "\u001b[1;31mModuleNotFoundError\u001b[0m                       Traceback (most recent call last)",
      "Cell \u001b[1;32mIn [3], line 3\u001b[0m\n\u001b[0;32m      1\u001b[0m \u001b[38;5;66;03m# Starten Sie den Code, indem sie die Zelle auswählen und den Run-Button drücken\u001b[39;00m\n\u001b[0;32m      2\u001b[0m \u001b[38;5;66;03m# oder mit Shift + Enter\u001b[39;00m\n\u001b[1;32m----> 3\u001b[0m \u001b[38;5;28;01mimport\u001b[39;00m \u001b[38;5;21;01mpandas\u001b[39;00m \u001b[38;5;28;01mas\u001b[39;00m \u001b[38;5;21;01mpd\u001b[39;00m\n\u001b[0;32m      5\u001b[0m s \u001b[38;5;241m=\u001b[39m pd\u001b[38;5;241m.\u001b[39mSeries([\u001b[38;5;241m1\u001b[39m, \u001b[38;5;241m3\u001b[39m, \u001b[38;5;241m5\u001b[39m, np\u001b[38;5;241m.\u001b[39mnan, \u001b[38;5;241m6\u001b[39m, \u001b[38;5;241m8\u001b[39m])\n",
      "\u001b[1;31mModuleNotFoundError\u001b[0m: No module named 'pandas'"
     ]
    }
   ],
   "source": [
    "# Starten Sie den Code, indem sie die Zelle auswählen und den Run-Button drücken\n",
    "# oder mit Shift + Enter\n",
    "import pandas as pd\n",
    "\n",
    "s = pd.Series([1, 3, 5, np.nan, 6, 8])\n",
    "# Es sollte ein ModuleNotFoundError entstehen."
   ]
  },
  {
   "cell_type": "markdown",
   "metadata": {
    "editable": false
   },
   "source": [
    "Für das Einbinden von externen Modulen gibt [es folgende Kommandos](https://docs.python.org/3/tutorial/modules.html#more-on-modules):\n",
    "\n",
    "*A) Import der kompletten Bibliothek*\n",
    "\n",
    "```python\n",
    "import numpy\n",
    "\n",
    "```\n",
    "- Der Befehl importiert die gesamte Bibliothek des Moduls mit dem eigenem Namensraum `numpy`. Das Modul numpy besitzt zum Beispiel die Objekte `cos()`, `sin()` oder `pi`. Durch den obigen Import lassen sich die Objekte aufrufen, indem man zuerst das Modul nennt: `numpy.cos()`, `numpy.sin()` oder `numpy.pi`.\n",
    "\n",
    "\n",
    "\n",
    "*B) Import der kompletten Bibliothek mit alias*\n",
    "\n",
    "```python\n",
    "import numpy as np\n",
    "\n",
    "```\n",
    "- Wie bei A) importiert der Befehl die gesamte Bibliothek des Moduls, nur heißt der Namensraum nun `np`. Die Objekte `cos()`, `sin()` oder `pi` lassen sich nun folgendermaßen aufrufen: `np.cos()`, `np.sin()` oder `np.pi`.\n",
    "\n",
    "\n",
    "*C) Import einzelner Module aus der Bibliothek*\n",
    "\n",
    "```python\n",
    "from numpy import cos, sin, pi\n",
    "\n",
    "```\n",
    "- Mit diesem Befehl werden die einzelnen Objekte `cos()`, `sin()` und `pi` in den globalen Namensraum importiert. Diese können nun direkt aufgerufen werden, also mittels: `cos()`, `sin()` oder `pi`. Passen Sie dabei auf, dass der Name nicht schon belegt ist und es zur Kollision von gleichnamigen Objekten gibt, die dann nicht mehr aufrufbar sind.\n",
    "\n",
    "\n",
    "*D) Import aller Module aus der Bibliothek*\n",
    "\n",
    "```python\n",
    "from numpy import *\n",
    "\n",
    "```\n",
    "- Der Befehl bindet alle Objekte und Module von `numpy` direkt in den globalen Namensraum ein. Nun können alle Module direkt aufgerufen werden, also mittels: `cos()`, `sin()` oder `pi`. Dieser Import ist **nicht empfehlenswert**, da so die große Gefahr der Namenskollision besteht, und sollte daher nicht genutzt werden.\n",
    "\n",
    "\n",
    "*E) Import einzelner Module aus der Bibliothek mit Alias*\n",
    "\n",
    "```python\n",
    "import numpy.cos as cosin\n",
    "oder\n",
    "from numpy import cos as cosin\n",
    "\n",
    "```\n",
    "- Bei dieser Art des Imports wird nur jeweils das aufgerufene Modul der Bibliothek mit dem vorgegebenen Alias eingebunden. \n",
    "\n",
    "<br>\n",
    "\n",
    "Durch das Importieren von externen Modulen kann man also die Funktionalität von Python erweitern. Jedes externe Modul sollte aber nur dann in das Projekt eingebunden werden, wenn dieses auch wirklich verwendet wird. Externe Module können dabei auch in anderen Programmiersprachen geschrieben sein. `numpy` zum Beispiel ist vorwiegend in *C* geschrieben.\n",
    "\n",
    "Die in dem folgenden Einführungs-Notebook (0.2) verwendeten Module und deren Funktionen sind:\n",
    "- [```numpy```](https://numpy.org): für [Arrays und Matrizen](https://www.python-kurs.eu/numpy.php),\n",
    "- [```matplotlib```](https://matplotlib.org/contents.html): Erstellung von mathematischen Darstellungen,\n",
    "- [```scipy```](https://docs.scipy.org/doc/scipy/reference/): Nutzung wissenschaftlicher Funktionen.\n",
    "  \n",
    "\n",
    "<br>\n",
    "\n",
    "<h5>Installation von externen Modulen</h5>\n",
    "\n",
    "Für die Installation von externen Modulen steht das Paketverwaltungsprogramm [`pip`](https://pip.pypa.io/en/stable/) zur Verfügung. Es lädt die Module aus dem [*Python Package Index (PyPI)*](https://pypi.org/) herunter, in dem die wichtigsten Projekte gelistet sind, und installiert diese. `pip` kümmert sich auch darum, bei Abhängigkeiten zu fehlenden Modulen diese automatisch mit zu installieren. Das Paketverwaltungsprogramm nutzt man direkt über die Eingabeaufforderung von Windows. Dabei ist zu beachten, dass Python nicht in derselben Eingabeaufforderung gestartet ist. Alle laufenden Python-Ausführungen können in anderen Eingabeaufforderungen weiterlaufen.\n",
    "\n",
    "*Hinweis:* Falls Sie wegen mehreren installierten Python-Version auf den Python-Launcher zurückgreifen, müssen Sie bei allen im Folgenden beschriebenen Befehlen das `python` mit `py -3.X` ersetzen.\n",
    "\n",
    "Mit `python -m pip -V` können Sie sich den Speicherort der pip-Version ausgeben lassen. Kontrollieren Sie, dass der richtige Pfad angezeigt wird, indem Sie die Python-Version installiert haben. Falls dies nicht der Fall ist, müssen Sie die Umgebungsvariablen editieren oder auf den Python Launcher `py` zurückgreifen (siehe dafür vorheriges Unterkapitel: Installation von Python).\n",
    "\n",
    "Über den Befehl `python -m pip list` oder in einem Pythonkernel über `help(\"modules\")` kann man sich eine Liste der installierten Module ausgeben lassen.\n",
    "\n",
    "Bevor Sie Module installieren, sollte pip geupdated werden. Dies kann mit folgendem Befehl getan werden. <br>\n",
    "<div style=\"background-color:rgba(0, 0, 0, 0.0470588); padding:10px 10px;font-family:monospace;\">\n",
    "python -m pip install --upgrade pip\n",
    "</div>\n",
    "\n",
    "Zudem ist es sinnvoll, daraufhin das Modul [`wheel`](https://pypi.org/project/wheel/) zu installieren. Mit diesem Modul kann `pip` vorgepackte und -kompilierte Packages von PyPi herunterladen, was den Download und die Installation beschleunigt (siehe [Link für mehr Erklärung](https://realpython.com/python-wheels/)). Installiert wird `wheel` über  folgenden Befehl:<br>\n",
    "<div style=\"background-color:rgba(0, 0, 0, 0.0470588); padding:10px 10px;font-family:monospace;\">\n",
    "python -m pip install wheel\n",
    "</div>\n",
    "\n",
    "\n",
    "\n",
    "1. **Installation von Numpy:** <br>\n",
    "Da [`numpy`](https://numpy.org/doc/stable/user/whatisnumpy.html) primär in *C* geschrieben ist, werden Libraries und Interpreter auf dem PC benötigt, um numpy zu installieren. Probieren Sie aber zuerst, die Installation mit folgendem Code zu starten.\n",
    "<br>\n",
    "Öffnen Sie eine eine Eingabeaufforderung und geben Sie folgenden Code ein und drücken `Enter`:<br>\n",
    "<div style=\"background-color:rgba(0, 0, 0, 0.0470588); padding:10px 10px;font-family:monospace;\">\n",
    "python -m pip install numpy\n",
    "</div>\n",
    "\n",
    "   Falls dies mit einem Fehler abbricht, liegt das wahrscheinlich daran, dass Sie die C-Libraries installieren müssen. Diese können Sie mit [C++-Buildtools](https://visualstudio.microsoft.com/de/visual-cpp-build-tools/) installieren. Wählen Sie nach Starten des Installationsassistenten im Installationsmenü *C++-Buildtools* aus. Hinweis: entfernen Sie keine Häkchen bei den vorausgewählten optionalen Modulen. Und ja, leider sind das um die 5 Gigabyte an Speicherplatz..<br>\n",
    "Danach geben Sie nochmal den obigen Code ein, um die Installation ein weiteres Mal zu starten. \n",
    "\n",
    "\n",
    "2.  **Installation von matplotlib:** <br>\n",
    "   Wenn `numpy` und `wheel` installiert sind, kann die Installation von [`matplotlib`](https://matplotlib.org/users/installing.html) über folgenden Befehl gestartet werden:<br>\n",
    "<div style=\"background-color:rgba(0, 0, 0, 0.0470588); padding:10px 10px;font-family:monospace;\">\n",
    "python -m pip install matplotlib\n",
    "</div>\n",
    "\n",
    "   Wenn Sie sich nun die Liste der installierten externen Module anschauen (`pip list`), wird Ihnen auffallen, dass durch die Installation von `matplotlib` noch weitere Module mit installiert wurden. Die sind automatisch mitinstalliert worden, da `matplotlib` sich auf diese bezieht.\n",
    "\n",
    "\n",
    "3.  **Installation von scipy:** <br>\n",
    "`Scipy` auf einem Windows-Betriebssystem über den regulären Weg zu installieren [ist sehr aufwendig](https://scipy.org/install.html). Um diesen Aufwand zu umgehen, wird über den Dienst `wheel` eine vorgepackte Version heruntergeladen und installiert. Dies wird über folgenden Befehl gestartet:\n",
    "<div style=\"background-color:rgba(0, 0, 0, 0.0470588); padding:10px 10px;font-family:monospace;\">\n",
    "python -m pip install scipy\n",
    "</div>\n",
    "\n",
    "   Falls dies mit Fehlern endet, kann dies an folgenden Problemen liegen:\n",
    "    - das Package [`mkl`](https://pypi.org/project/mkl/) muss vorinstalliert werden.<br>\n",
    "<div style=\"background-color:rgba(0, 0, 0, 0.0470588); padding:10px 10px;font-family:monospace;\">\n",
    "python -m pip install mkl\n",
    "</div><br>\n",
    "Starten Sie danach nochmal die Installation von `scipy`.\n",
    "    - Falls Sie die Pythonversion 3.9 installiert haben, kann das Wheel gegebenenfalls noch nicht zur Verfügung stehen. Dafür stehen Ihnen zwei Möglichkeiten zur Verfügung. Zum einen können Sie die Python-Version 3.8. installieren und darüber nochmal alle externen Module installieren, was wir Ihnen empfehlen.<br>\n",
    "    Zum anderen gibt es die Möglichkeit, sich kompilierte Binary-Dateien von anderen Anbietern zu downloaden und installieren. Eine Webseite mit solchen Binary-Dateien ist über [diesen Link zu finden](https://www.lfd.uci.edu/~gohlke/pythonlibs/). Um nun `scipy` darüber zu installieren, müssen Sie zunächst `numpy` und `mkl` deinstallieren und ein vorgepacktes .whl für `numpy + mkl` und eines für `scipy` herunterladen. Dazu müssen Sie aus den Listen die korrekten binary-Files aussuchen. [Hier die Liste für scipy mit einem Link zu numpy + mkl](https://www.lfd.uci.edu/~gohlke/pythonlibs/#scipy). Die Deinstallation der schon installierten Module und die Installation der lokalen `.whl` -Dateien folgt  über folgende Kommandos. Dabei müssen Sie den Pfad und den Dateinamen noch anpassen.<br>\n",
    "<div style=\"background-color:rgba(0, 0, 0, 0.0470588); padding:10px 10px;font-family:monospace;\">\n",
    "python -m pip uninstall numpy<br>\n",
    "python -m pip uninstall mkl<br>\n",
    "python -m pip install C:\\Users\\~User\\Downloads\\numpy-1.19.2+mkl-cp3X-cp3X-win_amd64.whl<br>\n",
    "python -m pip install C:\\Users\\~User\\Downloads\\scipy-1.5.X-cp3X-cp3X-win_amdXX.whl\n",
    "</div>\n",
    "\n",
    "      Diese Möglichkeit sollte aber immer nur als \"letzte Option\" gesehen werden, da es experimentelle binarys sind, und wird Ihnen in diesem Fall auch abgeraten. Falls Sie also (noch) nicht normal `scipy` installieren können, dann nutzen Sie lieber Python v3.8. Lassen Sie Python 3.9 aber einfach installiert und probieren Sie die Installation einfach ein paar Tage später aus. Vielleicht ist bis dahin ja ein wheel erstellt worden.\n",
    "\n",
    "Eine Installation von mehreren Packages kann man auch mit nur einem `pip install`-Kommando durchführt, indem man die externen Pakete nacheinander schreibt. Zum Beispiel über: `python -m pip install wheel numpy matplotlib scipy`.\n",
    "\n",
    "Nun sollten alle externen Module - bis auf Jupyter Notebook - auf Ihrem Computer installiert sein, die sie für das Einführungs-Notebook (0.2) benötigen. Falls Sie weitere Informationen benötigen, welche Möglichkeiten Ihnen bei der Installation und Update mit pip zur Verfügung stehen, können Sie sich noch folgende Links anschauen [(1)](https://packaging.python.org/tutorials/installing-packages/) [(2)](https://pip-python3.readthedocs.io/en/latest/reference/pip_install.html#pip-install-examples) [(3)](https://pip.pypa.io/en/latest/user_guide/#installing-from-wheels).\n",
    "\n",
    "***"
   ]
  },
  {
   "cell_type": "markdown",
   "metadata": {
    "editable": false
   },
   "source": [
    "<a id='jupyter'></a><div><img src=\"img/IMG-jupyter.png\" style=\"float:left\"><h2 style=\"position: relative; top: 6px; left: 6px\">3. Jupyter Notebook </h2></div>\n",
    "\n",
    "`Jupyter Notebook` ist eine interaktive Computerumgebung, mit der Benutzer Notizbuchdokumente erstellen können, die Folgendes umfassen: - Live-Code - Interaktive Widgets - Diagramme - Erzähltext - Gleichungen - Bilder - Video usw.  \n",
    "Über die Kernel- und Messaging-Architektur von Jupyter ermöglicht das Notebook die Ausführung von Code in verschiedenen Programmiersprachen. Für jedes Notizbuchdokument (auch Notebook), das ein Benutzer öffnet, startet die Webanwendung einen Kernel, der den Code für dieses Notizbuch ausführt. Hier benutzen wir Python3 als Kernel.  \n",
    "    \n",
    "Folgende Informationen zum Umgang sind wichtig zu wissen:\n",
    "\n",
    "- Der Aufbau ist in Zellen. Dabei kann eine Zelle zum Beispiel Pythoncode (```Code```) oder Text/Bilder (```Markdown```) beinhalten. \n",
    "- Zellen mit Code können ausgeführt werden, indem man auf den Run-button klickt oder auf ```Umschalt``` + ```Enter```.\n",
    "- Auch Zellen mit Text können (wenn sie im Bearbeitungsmodus sind) mittels Run-Button oder ```Umschalt``` + ```Enter``` ausgeführt werden. \n",
    "- Die Ergebnisse aller ausgeführten Zellen bleiben dabei gespeichert und können in der nächsten Zelle wieder verwendet werden.\n",
    "- Löschen der kompletten Ausgabe geht über das Menüband unter ```Kernel``` -> ```Restart & Clear All Output```.\n",
    "\n",
    "    \n",
    "Weitere Hinweise zu dessen Verwendung finden Sie [hier](https://jupyter.org/index.html).\n",
    "\n",
    "<br>\n",
    "\n",
    "<h5>Installation von Jupyter Notebook</h5>\n",
    "\n",
    "Zur Installation von [`Jupyter Notebook`](https://pypi.org/project/jupyter/) wird wieder `pip`verwendet. Nutzen Sie dafür folgendes Kommando:<br>\n",
    "<div style=\"background-color:rgba(0, 0, 0, 0.0470588); padding:10px 10px;font-family:monospace;\">\n",
    "python -m pip install jupyter<br>\n",
    "   -- beziehungsweise --<br>\n",
    "py -3.X -m pip install jupyter\n",
    "</div><br>\n",
    "\n",
    "Starten können sie `Jupyter Notebook` genau wie `python` oder `pip` über die Eingabeaufforderung von Windows mittels folgendem Kommando:<br>\n",
    "<div style=\"background-color:rgba(0, 0, 0, 0.0470588); padding:10px 10px;font-family:monospace;\">\n",
    "jupyter notebook\n",
    "</div>\n",
    "\n",
    "Daraufhin startet in der Eingabeaufforderung `Jupyter Notebook` und Ihr Standardbrowser öffnet sich mit dem Notebook-Fenster. Sie können das Programm auch mit einem anderen Browser verwenden, indem Sie den in der Eingabeaufforderung mit ausgegebenen http:\\-Link nutzen.\n",
    "Wenn Sie nun im Browser ein oder mehrere Notebooks (`.ipynb`) öffnen, wird in der Eingabeaufforderung für jedes Notebook ein neuer Python-Kernel gestartet.\n",
    "\n",
    "<br>\n",
    "\n",
    "<h5>Hilfe bei mehreren Python-Versionen</h5>\n",
    "\n",
    "Wenn Sie mehrere Python-Versionen installiert haben, können auch mehrere Python-Versionen den Kernel für die Notebooks stellen. Das Problem daran ist, dass der Kernel immer gleichnamig mit `python3` betitelt wird. Das sorgt dafür, dass es keine wirkliche Kontrolle gibt, welche Version gerade für den Kernel genutzt wird. Es wird in dieser Konfiguration meistens die Python-Version genommen, die im \"PATH\" zuerst kommt. Um eine Kontrolle über die Python-Kernel-Version einzurichten, können Sie folgende Befehle verwenden.\n",
    "\n",
    "Zeigen Sie sich alle Kernelspezifikationen an über: \n",
    "<div style=\"background-color:rgba(0, 0, 0, 0.0470588); padding:10px 10px;font-family:monospace;\">\n",
    "jupyter kernelspec list\n",
    "</div>\n",
    "Diese Liste muss dabei nicht stimmen, da Namensdopplungen nicht angezeigt werden!\n",
    "\n",
    "Installieren Sie weitere Kernelspezifikationen mit anderem Namen über folgenden Befehl (hier für Python 3.8):\n",
    "<div style=\"background-color:rgba(0, 0, 0, 0.0470588); padding:10px 10px;font-family:monospace;\">\n",
    "py -3.8 -m ipykernel install --name python_3.8 --display-name \"Python 3.8\"\n",
    "</div>\n",
    "Wiederholen Sie das für alle Python-Versionen, die mit Jupyter Notebook verwendet werden sollen.\n",
    "\n",
    "Sie können die nun redundant gewordene Spezifikation `python3` über folgenden Befehl löschen: \n",
    "<div style=\"background-color:rgba(0, 0, 0, 0.0470588); padding:10px 10px;font-family:monospace;\">\n",
    "jupyter kernelspec uninstall python3\n",
    "</div>\n",
    "\n",
    "Wenn Sie dann ein Notebook geöffnet haben, können Sie über das Menüband unter `Kernel` -> `Change Kernel` die Python-Version auswählen, mit die der Kernel laufen soll. Auch können Sie bei einer Erstellung eines neuen Noteboks direkt auswählen, mit welchem Kernel dieser bei der Erstellung gestartet wird. Für die weitere Nutzung ist diese Auswahl aber irrelevant, da der Python-Code zwischen den Versionen zum großen Teil kompatibel ist.\n",
    "\n",
    "---\n",
    "\n",
    "Falls Sie jetzt erfolgreich Python mit den externen Packages installieren konnten und Jupyter Notebook lokal nutzen können, sind Sie gewappnet für die nächsten Notebooks! Herzlichen Glückwunsch und viel Spaß mit den neu gewonnen Möglichkeiten durch ein frisch installiertes Python.\n",
    "\n",
    "Melden Sie sich gerne, wenn Sie Anmerkungen zu dieser Anleitung haben."
   ]
  },
  {
   "cell_type": "markdown",
   "metadata": {
    "editable": false
   },
   "source": [
    "---\n",
    "<div>Notebook erstellt von Arne-Lukas Fietkau, Yifei Li  und <a href=\"mailto:christoph.wagner@tu-dresden.de?Subject=Frage%20zu%20Jupyter%20Notebook%200.1%20Einführung\" target=\"_top\">Christoph Wagner</a></div>"
   ]
  }
 ],
 "metadata": {
  "celltoolbar": "Edit Metadata",
  "kernelspec": {
   "display_name": "Python 3.8",
   "language": "python",
   "name": "python_3.8"
  },
  "language_info": {
   "codemirror_mode": {
    "name": "ipython",
    "version": 3
   },
   "file_extension": ".py",
   "mimetype": "text/x-python",
   "name": "python",
   "nbconvert_exporter": "python",
   "pygments_lexer": "ipython3",
   "version": "3.8.1"
  }
 },
 "nbformat": 4,
 "nbformat_minor": 4
}